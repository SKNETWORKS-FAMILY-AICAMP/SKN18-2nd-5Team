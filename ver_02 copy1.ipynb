{
 "cells": [
  {
   "cell_type": "markdown",
   "id": "6f100cb2",
   "metadata": {},
   "source": [
    "데이터 전처리 없이 머신러닝 돌리기"
   ]
  },
  {
   "cell_type": "code",
   "execution_count": 1,
   "id": "8ba87913",
   "metadata": {},
   "outputs": [],
   "source": [
    "# 라이브러리\n",
    "import os\n",
    "import pandas as pd\n",
    "import numpy as np\n",
    "\n",
    "# 데이터 시각화\n",
    "import matplotlib.pyplot as plt\n",
    "import matplotlib as mpl\n",
    "import seaborn as sns\n",
    "\n",
    "import torch\n",
    "import random\n",
    "\n",
    "def reset_seeds(seed=42):\n",
    "    random.seed(seed)\n",
    "    os.environ['PYTHONHASHSEED'] = str(seed)    # 파이썬 환경변수 시드 고정\n",
    "    np.random.seed(seed)\n",
    "    torch.manual_seed(seed) # cpu 연산 무작위 고정\n",
    "    torch.cuda.manual_seed(seed) # gpu 연산 무작위 고정\n",
    "    torch.backends.cudnn.deterministic = True  # cuda 라이브러리에서 Deterministic(결정론적)으로 예측하기 (예측에 대한 불확실성 제거 )"
   ]
  },
  {
   "cell_type": "code",
   "execution_count": 2,
   "id": "dd4b8b6a",
   "metadata": {},
   "outputs": [],
   "source": [
    "# hotel폴더의 archive폴더에 있는 CSV로드\n",
    "import easydict\n",
    "args = easydict.EasyDict()\n",
    "\n",
    "args.default_path = './archive/hotel_bookings.csv'\n",
    "\n",
    "# 데이터 분석을 위한 변수들\n",
    "args.random_state = 21"
   ]
  },
  {
   "cell_type": "markdown",
   "id": "c4a815e3",
   "metadata": {},
   "source": [
    "데이터 로드"
   ]
  },
  {
   "cell_type": "code",
   "execution_count": 3,
   "id": "a5c9a36c",
   "metadata": {},
   "outputs": [],
   "source": [
    "plt.style.use('fivethirtyeight')\n",
    "plt.ion()\n",
    "\n",
    "import warnings\n",
    "warnings.filterwarnings('ignore')"
   ]
  },
  {
   "cell_type": "code",
   "execution_count": 4,
   "id": "aa5a3c7a",
   "metadata": {},
   "outputs": [
    {
     "data": {
      "text/plain": [
       "(119390, 32)"
      ]
     },
     "execution_count": 4,
     "metadata": {},
     "output_type": "execute_result"
    }
   ],
   "source": [
    "df = pd.read_csv(args.default_path)\n",
    "df.shape"
   ]
  },
  {
   "cell_type": "code",
   "execution_count": 5,
   "id": "b57e3692",
   "metadata": {},
   "outputs": [
    {
     "data": {
      "text/plain": [
       "'PRT'"
      ]
     },
     "execution_count": 5,
     "metadata": {},
     "output_type": "execute_result"
    }
   ],
   "source": [
    "df[\"country\"].mode()[0]"
   ]
  },
  {
   "cell_type": "code",
   "execution_count": 6,
   "id": "69776da1",
   "metadata": {},
   "outputs": [
    {
     "data": {
      "text/plain": [
       "hotel                              object\n",
       "is_canceled                         int64\n",
       "lead_time                           int64\n",
       "arrival_date_year                   int64\n",
       "arrival_date_month                 object\n",
       "arrival_date_week_number            int64\n",
       "arrival_date_day_of_month           int64\n",
       "stays_in_weekend_nights             int64\n",
       "stays_in_week_nights                int64\n",
       "adults                              int64\n",
       "children                          float64\n",
       "babies                              int64\n",
       "meal                               object\n",
       "country                            object\n",
       "market_segment                     object\n",
       "distribution_channel               object\n",
       "is_repeated_guest                   int64\n",
       "previous_cancellations              int64\n",
       "previous_bookings_not_canceled      int64\n",
       "reserved_room_type                 object\n",
       "assigned_room_type                 object\n",
       "booking_changes                     int64\n",
       "deposit_type                       object\n",
       "agent                             float64\n",
       "company                           float64\n",
       "days_in_waiting_list                int64\n",
       "customer_type                      object\n",
       "adr                               float64\n",
       "required_car_parking_spaces         int64\n",
       "total_of_special_requests           int64\n",
       "reservation_status                 object\n",
       "reservation_status_date            object\n",
       "dtype: object"
      ]
     },
     "execution_count": 6,
     "metadata": {},
     "output_type": "execute_result"
    }
   ],
   "source": [
    "df.dtypes"
   ]
  },
  {
   "cell_type": "code",
   "execution_count": 7,
   "id": "e05642b9",
   "metadata": {},
   "outputs": [],
   "source": [
    "# company, agent, children → 0으로 채우기\n",
    "df[\"company\"] = df[\"company\"].fillna(0)\n",
    "df[\"agent\"] = df[\"agent\"].fillna(0)\n",
    "df[\"children\"] = df[\"children\"].fillna(0)\n",
    "\n",
    "# country → 최빈값으로 채우기\n",
    "df[\"country\"] = df[\"country\"].fillna(df[\"country\"].mode()[0])"
   ]
  },
  {
   "cell_type": "markdown",
   "id": "4bd5eead",
   "metadata": {},
   "source": [
    "train, test 분리"
   ]
  },
  {
   "cell_type": "code",
   "execution_count": 8,
   "id": "e91bb0d3",
   "metadata": {},
   "outputs": [
    {
     "name": "stdout",
     "output_type": "stream",
     "text": [
      "Train: (76409, 32)\n",
      "Eval : (19103, 32)\n",
      "Test : (23878, 32)\n"
     ]
    }
   ],
   "source": [
    "from sklearn.model_selection import train_test_split\n",
    "\n",
    "# 전체 train/test 먼저\n",
    "train_df, test_df = train_test_split(df, test_size=0.2, random_state=42, stratify=df['is_canceled'])\n",
    "\n",
    "# train 안에서 다시 eval 분리\n",
    "train_df, eval_df = train_test_split(train_df, test_size=0.2, random_state=42, stratify=train_df['is_canceled'])\n",
    "\n",
    "print(\"Train:\", train_df.shape)\n",
    "print(\"Eval :\", eval_df.shape)\n",
    "print(\"Test :\", test_df.shape)\n",
    "# 과적합을 막기 위해 train, eval, test로 나눔"
   ]
  },
  {
   "cell_type": "markdown",
   "id": "24c34ffb",
   "metadata": {},
   "source": [
    "staking 기법 사용"
   ]
  },
  {
   "cell_type": "code",
   "execution_count": 9,
   "id": "31450c35",
   "metadata": {},
   "outputs": [],
   "source": [
    "from sklearn.ensemble import StackingClassifier\n",
    "\n",
    "from sklearn.neural_network import MLPClassifier\n",
    "from sklearn.linear_model import LogisticRegression\n",
    "from sklearn.ensemble import RandomForestClassifier"
   ]
  },
  {
   "cell_type": "code",
   "execution_count": 10,
   "id": "48f84373",
   "metadata": {},
   "outputs": [],
   "source": [
    "# X, y 정의\n",
    "X = df.drop([\"is_canceled\", \"reservation_status\", \"reservation_status_date\"], axis=1)\n",
    "y = df[\"is_canceled\"]\n",
    "\n",
    "# train/test split\n",
    "X_tr, X_te, y_tr, y_te = train_test_split(\n",
    "    X, y, test_size=0.2, random_state=42, stratify=y\n",
    ")"
   ]
  },
  {
   "cell_type": "code",
   "execution_count": 11,
   "id": "fe2c3733",
   "metadata": {},
   "outputs": [],
   "source": [
    "from sklearn.preprocessing import OneHotEncoder, StandardScaler\n",
    "from sklearn.compose import ColumnTransformer\n",
    "from sklearn.pipeline import Pipeline\n",
    "\n",
    "# 수치형/범주형 컬럼 분리\n",
    "num_cols = X_tr.select_dtypes(include=['int64','float64']).columns.tolist()\n",
    "cat_cols = X_tr.select_dtypes(include=['object']).columns.tolist()\n",
    "\n",
    "# 전처리 파이프라인\n",
    "preprocessor = ColumnTransformer(\n",
    "    transformers=[\n",
    "        # (\"num\", StandardScaler(), num_cols),\n",
    "        (\"cat\", OneHotEncoder(handle_unknown=\"ignore\"), cat_cols)\n",
    "    ]\n",
    ")\n"
   ]
  },
  {
   "cell_type": "markdown",
   "id": "0956ada7",
   "metadata": {},
   "source": [
    "MLP"
   ]
  },
  {
   "cell_type": "code",
   "execution_count": 12,
   "id": "78094319",
   "metadata": {},
   "outputs": [
    {
     "name": "stdout",
     "output_type": "stream",
     "text": [
      "MLPClassifier 훈련 점수: 0.8155624424156127\n",
      "MLPClassifier 테스트 점수: 0.7944970265516375\n"
     ]
    }
   ],
   "source": [
    "from sklearn.neural_network import MLPClassifier\n",
    "\n",
    "# MLP 파이프라인 생성\n",
    "mlp_pipeline = Pipeline(steps=[\n",
    "    ('preprocessor', preprocessor),\n",
    "    ('classifier', MLPClassifier(max_iter=1000, random_state=42))\n",
    "])\n",
    "\n",
    "# 학습 및 평가\n",
    "mlp_pipeline.fit(X_tr, y_tr)\n",
    "print(\"MLPClassifier 훈련 점수:\", mlp_pipeline.score(X_tr, y_tr))\n",
    "print(\"MLPClassifier 테스트 점수:\", mlp_pipeline.score(X_te, y_te))\n"
   ]
  },
  {
   "cell_type": "markdown",
   "id": "7a577aa9",
   "metadata": {},
   "source": [
    "Logistic"
   ]
  },
  {
   "cell_type": "code",
   "execution_count": 13,
   "id": "60fb1a14",
   "metadata": {},
   "outputs": [
    {
     "name": "stdout",
     "output_type": "stream",
     "text": [
      "LogisticRegression 훈련 점수: 0.7616529860122289\n",
      "LogisticRegression 테스트 점수: 0.7617053354552308\n"
     ]
    }
   ],
   "source": [
    "from sklearn.linear_model import LogisticRegression\n",
    "\n",
    "# Logistic Regression 파이프라인 생성\n",
    "lr_pipeline = Pipeline(steps=[\n",
    "    ('preprocessor', preprocessor),\n",
    "    ('classifier', LogisticRegression(max_iter=1000, random_state=42))\n",
    "])\n",
    "\n",
    "# 학습 및 평가\n",
    "lr_pipeline.fit(X_tr, y_tr)\n",
    "print(\"LogisticRegression 훈련 점수:\", lr_pipeline.score(X_tr, y_tr))\n",
    "print(\"LogisticRegression 테스트 점수:\", lr_pipeline.score(X_te, y_te))"
   ]
  },
  {
   "cell_type": "markdown",
   "id": "14989e82",
   "metadata": {},
   "source": [
    "Random Forest"
   ]
  },
  {
   "cell_type": "code",
   "execution_count": 14,
   "id": "95da89b6",
   "metadata": {},
   "outputs": [
    {
     "name": "stdout",
     "output_type": "stream",
     "text": [
      "RandomForestClassifier 훈련 점수: 0.8298014909121367\n",
      "RandomForestClassifier 테스트 점수: 0.7978055113493593\n"
     ]
    }
   ],
   "source": [
    "from sklearn.ensemble import RandomForestClassifier\n",
    "\n",
    "# Random Forest 파이프라인 생성\n",
    "rf_pipeline = Pipeline(steps=[\n",
    "    ('preprocessor', preprocessor),\n",
    "    ('classifier', RandomForestClassifier(random_state=42))\n",
    "])\n",
    "\n",
    "# 학습 및 평가\n",
    "rf_pipeline.fit(X_tr, y_tr)\n",
    "print(\"RandomForestClassifier 훈련 점수:\", rf_pipeline.score(X_tr, y_tr))\n",
    "print(\"RandomForestClassifier 테스트 점수:\", rf_pipeline.score(X_te, y_te))"
   ]
  }
 ],
 "metadata": {
  "kernelspec": {
   "display_name": ".venv",
   "language": "python",
   "name": "python3"
  },
  "language_info": {
   "codemirror_mode": {
    "name": "ipython",
    "version": 3
   },
   "file_extension": ".py",
   "mimetype": "text/x-python",
   "name": "python",
   "nbconvert_exporter": "python",
   "pygments_lexer": "ipython3",
   "version": "3.13.5"
  }
 },
 "nbformat": 4,
 "nbformat_minor": 5
}
