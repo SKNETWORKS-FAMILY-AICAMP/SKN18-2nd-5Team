{
 "cells": [
  {
   "cell_type": "markdown",
   "id": "6f100cb2",
   "metadata": {},
   "source": [
    "데이터 전처리 없이 머신러닝 돌리기"
   ]
  },
  {
   "cell_type": "code",
   "execution_count": 1,
   "id": "8ba87913",
   "metadata": {},
   "outputs": [],
   "source": [
    "# 라이브러리\n",
    "import os\n",
    "import pandas as pd\n",
    "import numpy as np\n",
    "\n",
    "# 데이터 시각화\n",
    "import matplotlib.pyplot as plt\n",
    "import matplotlib as mpl\n",
    "import seaborn as sns\n",
    "\n",
    "import torch\n",
    "import random\n",
    "\n",
    "def reset_seeds(seed=42):\n",
    "    random.seed(seed)\n",
    "    os.environ['PYTHONHASHSEED'] = str(seed)    # 파이썬 환경변수 시드 고정\n",
    "    np.random.seed(seed)\n",
    "    torch.manual_seed(seed) # cpu 연산 무작위 고정\n",
    "    torch.cuda.manual_seed(seed) # gpu 연산 무작위 고정\n",
    "    torch.backends.cudnn.deterministic = True  # cuda 라이브러리에서 Deterministic(결정론적)으로 예측하기 (예측에 대한 불확실성 제거 )"
   ]
  },
  {
   "cell_type": "code",
   "execution_count": 2,
   "id": "dd4b8b6a",
   "metadata": {},
   "outputs": [],
   "source": [
    "# hotel폴더의 archive폴더에 있는 CSV로드\n",
    "import easydict\n",
    "args = easydict.EasyDict()\n",
    "\n",
    "args.default_path = './archive/hotel_bookings.csv'\n",
    "\n",
    "# 데이터 분석을 위한 변수들\n",
    "args.random_state = 21"
   ]
  },
  {
   "cell_type": "markdown",
   "id": "c4a815e3",
   "metadata": {},
   "source": [
    "데이터 로드"
   ]
  },
  {
   "cell_type": "code",
   "execution_count": 3,
   "id": "a5c9a36c",
   "metadata": {},
   "outputs": [],
   "source": [
    "plt.style.use('fivethirtyeight')\n",
    "plt.ion()\n",
    "\n",
    "import warnings\n",
    "warnings.filterwarnings('ignore')"
   ]
  },
  {
   "cell_type": "code",
   "execution_count": 4,
   "id": "aa5a3c7a",
   "metadata": {},
   "outputs": [
    {
     "data": {
      "text/plain": [
       "(119390, 32)"
      ]
     },
     "execution_count": 4,
     "metadata": {},
     "output_type": "execute_result"
    }
   ],
   "source": [
    "df = pd.read_csv(args.default_path)\n",
    "df.shape"
   ]
  },
  {
   "cell_type": "code",
   "execution_count": 5,
   "id": "b57e3692",
   "metadata": {},
   "outputs": [
    {
     "data": {
      "text/plain": [
       "'PRT'"
      ]
     },
     "execution_count": 5,
     "metadata": {},
     "output_type": "execute_result"
    }
   ],
   "source": [
    "df[\"country\"].mode()[0]"
   ]
  },
  {
   "cell_type": "code",
   "execution_count": 6,
   "id": "69776da1",
   "metadata": {},
   "outputs": [
    {
     "data": {
      "text/plain": [
       "hotel                              object\n",
       "is_canceled                         int64\n",
       "lead_time                           int64\n",
       "arrival_date_year                   int64\n",
       "arrival_date_month                 object\n",
       "arrival_date_week_number            int64\n",
       "arrival_date_day_of_month           int64\n",
       "stays_in_weekend_nights             int64\n",
       "stays_in_week_nights                int64\n",
       "adults                              int64\n",
       "children                          float64\n",
       "babies                              int64\n",
       "meal                               object\n",
       "country                            object\n",
       "market_segment                     object\n",
       "distribution_channel               object\n",
       "is_repeated_guest                   int64\n",
       "previous_cancellations              int64\n",
       "previous_bookings_not_canceled      int64\n",
       "reserved_room_type                 object\n",
       "assigned_room_type                 object\n",
       "booking_changes                     int64\n",
       "deposit_type                       object\n",
       "agent                             float64\n",
       "company                           float64\n",
       "days_in_waiting_list                int64\n",
       "customer_type                      object\n",
       "adr                               float64\n",
       "required_car_parking_spaces         int64\n",
       "total_of_special_requests           int64\n",
       "reservation_status                 object\n",
       "reservation_status_date            object\n",
       "dtype: object"
      ]
     },
     "execution_count": 6,
     "metadata": {},
     "output_type": "execute_result"
    }
   ],
   "source": [
    "df.dtypes"
   ]
  },
  {
   "cell_type": "code",
   "execution_count": 7,
   "id": "e05642b9",
   "metadata": {},
   "outputs": [],
   "source": [
    "# company, agent, children → 0으로 채우기\n",
    "df[\"company\"] = df[\"company\"].fillna(0)\n",
    "df[\"agent\"] = df[\"agent\"].fillna(0)\n",
    "df[\"children\"] = df[\"children\"].fillna(0)\n",
    "\n",
    "# country → 최빈값으로 채우기\n",
    "df[\"country\"] = df[\"country\"].fillna(df[\"country\"].mode()[0])"
   ]
  },
  {
   "cell_type": "markdown",
   "id": "4bd5eead",
   "metadata": {},
   "source": [
    "train, test 분리"
   ]
  },
  {
   "cell_type": "code",
   "execution_count": 8,
   "id": "e91bb0d3",
   "metadata": {},
   "outputs": [
    {
     "name": "stdout",
     "output_type": "stream",
     "text": [
      "Train: (76409, 32)\n",
      "Eval : (19103, 32)\n",
      "Test : (23878, 32)\n"
     ]
    }
   ],
   "source": [
    "from sklearn.model_selection import train_test_split\n",
    "\n",
    "# 전체 train/test 먼저\n",
    "train_df, test_df = train_test_split(df, test_size=0.2, random_state=42, stratify=df['is_canceled'])\n",
    "\n",
    "# train 안에서 다시 eval 분리\n",
    "train_df, eval_df = train_test_split(train_df, test_size=0.2, random_state=42, stratify=train_df['is_canceled'])\n",
    "\n",
    "print(\"Train:\", train_df.shape)\n",
    "print(\"Eval :\", eval_df.shape)\n",
    "print(\"Test :\", test_df.shape)\n",
    "# 과적합을 막기 위해 train, eval, test로 나눔"
   ]
  },
  {
   "cell_type": "markdown",
   "id": "24c34ffb",
   "metadata": {},
   "source": [
    "feature 생성"
   ]
  },
  {
   "cell_type": "code",
   "execution_count": 9,
   "id": "31450c35",
   "metadata": {},
   "outputs": [],
   "source": [
    "from sklearn.ensemble import StackingClassifier\n",
    "\n",
    "from sklearn.neural_network import MLPClassifier\n",
    "from sklearn.linear_model import LogisticRegression\n",
    "from sklearn.ensemble import RandomForestClassifier"
   ]
  },
  {
   "cell_type": "code",
   "execution_count": 10,
   "id": "48f84373",
   "metadata": {},
   "outputs": [],
   "source": [
    "# X, y 정의\n",
    "X = df.drop([\"is_canceled\", \"reservation_status\", \"reservation_status_date\", \"deposit_type\", \"agent\", \"assigned_room_type\"], axis=1)\n",
    "y = df[\"is_canceled\"]\n",
    "\n",
    "# train/test split\n",
    "X_tr, X_te, y_tr, y_te = train_test_split(\n",
    "    X, y, test_size=0.2, random_state=42, stratify=y\n",
    ")"
   ]
  },
  {
   "cell_type": "markdown",
   "id": "82d8e26e",
   "metadata": {},
   "source": [
    "feature 생성"
   ]
  },
  {
   "cell_type": "code",
   "execution_count": 11,
   "id": "441e8cd5",
   "metadata": {},
   "outputs": [
    {
     "name": "stdout",
     "output_type": "stream",
     "text": [
      "X_tr shape: (95512, 28)\n",
      "X_te shape: (23878, 28)\n"
     ]
    }
   ],
   "source": [
    "# Create 'total_guests' on both the training and testing sets\n",
    "X_tr['total_guests'] = X_tr['adults'] + X_tr['children'] + X_tr['babies']\n",
    "X_te['total_guests'] = X_te['adults'] + X_te['children'] + X_te['babies']\n",
    "\n",
    "# Create 'is_alone' feature for both sets\n",
    "# 1 if total_guests is 1, otherwise 0\n",
    "X_tr['is_alone'] = X_tr['total_guests'].apply(lambda x: 1 if x == 1 else 0)\n",
    "X_te['is_alone'] = X_te['total_guests'].apply(lambda x: 1 if x == 1 else 0)\n",
    "\n",
    "# Verify the new feature has been added\n",
    "print(\"X_tr shape:\", X_tr.shape)\n",
    "print(\"X_te shape:\", X_te.shape)\n",
    "\n",
    "# Optionally, you can drop the intermediate 'total_guests' feature\n",
    "X_tr = X_tr.drop('total_guests', axis=1)\n",
    "X_te = X_te.drop('total_guests', axis=1)"
   ]
  },
  {
   "cell_type": "markdown",
   "id": "82f43f12",
   "metadata": {},
   "source": [
    "company, agent  \n",
    "회사와 대행사가 미치는 영향 분석"
   ]
  },
  {
   "cell_type": "code",
   "execution_count": 12,
   "id": "b3bc74a6",
   "metadata": {},
   "outputs": [
    {
     "name": "stdout",
     "output_type": "stream",
     "text": [
      "has_company 분포:\n",
      "has_company\n",
      "0    0.943452\n",
      "1    0.056548\n",
      "Name: count, dtype: float64\n"
     ]
    }
   ],
   "source": [
    "# X_te[company]의 값이 0보다 크면1 / 작으면 0# company 값이 0보다 크면 1, 아니면 0  \n",
    "# .astype(int) : Boolean을 정수로 변환\n",
    "X_te['has_company'] = (X_te['company'] > 0).astype(int)\n",
    "X_tr['has_company'] = (X_tr['company'] > 0).astype(int)\n",
    "# 확인\n",
    "print(\"has_company 분포:\")\n",
    "print(X_tr['has_company'].value_counts()/len(X_tr['has_company']))"
   ]
  },
  {
   "cell_type": "code",
   "execution_count": 13,
   "id": "1557562f",
   "metadata": {},
   "outputs": [
    {
     "name": "stdout",
     "output_type": "stream",
     "text": [
      "has_company 분포:\n",
      "has_company\n",
      "0    0.943452\n",
      "1    0.056548\n",
      "Name: count, dtype: float64\n"
     ]
    }
   ],
   "source": [
    "# X_te[company]의 값이 0보다 크면1 / 작으면 0# company 값이 0보다 크면 1, 아니면 0  \n",
    "# .astype(int) : Boolean을 정수로 변환\n",
    "X_te['has_company'] = (X_te['company'] > 0).astype(int)\n",
    "X_tr['has_company'] = (X_tr['company'] > 0).astype(int) \n",
    "# 확인\n",
    "print(\"has_company 분포:\")\n",
    "print(X_tr['has_company'].value_counts()/len(X_tr['has_company']))"
   ]
  },
  {
   "cell_type": "markdown",
   "id": "8df5e406",
   "metadata": {},
   "source": [
    "meal 형태  \n",
    "FB 즉 식사를 3번 제공하면 취소율이 높았음"
   ]
  },
  {
   "cell_type": "code",
   "execution_count": 14,
   "id": "29113f37",
   "metadata": {},
   "outputs": [
    {
     "name": "stdout",
     "output_type": "stream",
     "text": [
      "is_FB_meal 분포:\n",
      "is_FB_meal\n",
      "0    0.993362\n",
      "1    0.006638\n",
      "Name: count, dtype: float64\n"
     ]
    }
   ],
   "source": [
    "# meal이 FB이면 1, 아니면 0인 피처생성\n",
    "import numpy as np\n",
    "\n",
    "# np.where로 조건부 값 할당\n",
    "X_tr['is_FB_meal'] = np.where(X_tr['meal'] == 'FB', 1, 0)\n",
    "X_te['is_FB_meal'] = np.where(X_te['meal'] == 'FB', 1, 0)\n",
    "\n",
    "# 확인\n",
    "print(\"is_FB_meal 분포:\")\n",
    "print(X_tr['is_FB_meal'].value_counts()/len(X_tr['is_FB_meal']))"
   ]
  },
  {
   "cell_type": "markdown",
   "id": "371f6e98",
   "metadata": {},
   "source": [
    "예약한 방과 실제 방이 다른경우 끼치는 영향"
   ]
  },
  {
   "cell_type": "code",
   "execution_count": 15,
   "id": "ffbfcbfe",
   "metadata": {},
   "outputs": [
    {
     "name": "stdout",
     "output_type": "stream",
     "text": [
      "  reserved_room_type assigned_room_type  is_room_changed\n",
      "0                  C                  C                0\n",
      "1                  C                  C                0\n",
      "2                  A                  C                1\n",
      "3                  A                  A                0\n",
      "4                  A                  A                0\n"
     ]
    }
   ],
   "source": [
    "import numpy as np\n",
    "\n",
    "# 'is_room_changed' 컬럼 생성\n",
    "df['is_room_changed'] = np.where(df['reserved_room_type'] == df['assigned_room_type'], 0, 1)\n",
    "\n",
    "# 새로 생성된 피처 확인\n",
    "print(df[['reserved_room_type', 'assigned_room_type', 'is_room_changed']].head())"
   ]
  },
  {
   "cell_type": "markdown",
   "id": "638491fe",
   "metadata": {},
   "source": [
    "ard 이상치 제거  \n",
    "1~200 사이의 값을 제외하고 전부 중앙값으로 처리"
   ]
  },
  {
   "cell_type": "code",
   "execution_count": 16,
   "id": "00c0dd20",
   "metadata": {},
   "outputs": [
    {
     "name": "stdout",
     "output_type": "stream",
     "text": [
      "처리된 adr의 통계량 (X_tr):\n",
      "count    95512.000000\n",
      "mean        96.873297\n",
      "std         39.938106\n",
      "min         -6.380000\n",
      "25%         69.290000\n",
      "50%         92.000000\n",
      "75%        120.000000\n",
      "max        211.030000\n",
      "Name: adr_processed, dtype: float64\n"
     ]
    }
   ],
   "source": [
    "import numpy as np\n",
    "\n",
    "# 1. IQR을 사용하여 훈련 데이터(X_tr)의 이상치 범위 계산\n",
    "Q1 = X_tr['adr'].quantile(0.25)\n",
    "Q3 = X_tr['adr'].quantile(0.75)\n",
    "IQR = Q3 - Q1\n",
    "upper_bound = Q3 + 1.5 * IQR\n",
    "lower_bound = Q1 - 1.5 * IQR\n",
    "\n",
    "# 2. 이상치(outliers)를 제외한 훈련 데이터의 adr 중앙값 재계산\n",
    "# adr은 보통 0보다 크므로 하한선을 0으로 설정하거나 IQR로 계산된 값을 사용\n",
    "# 여기서는 IQR로 계산된 값을 사용하여 더 일반적인 방법으로 처리\n",
    "adr_filtered_median = X_tr.loc[(X_tr['adr'] >= lower_bound) & (X_tr['adr'] <= upper_bound), 'adr'].median()\n",
    "\n",
    "# 3. 훈련 세트(X_tr)에 새로운 'adr_processed' 피처 생성\n",
    "# 이상치 범위(lower_bound ~ upper_bound)를 벗어나는 값들을 필터링된 중앙값으로 대체\n",
    "X_tr['adr_processed'] = np.where(\n",
    "    (X_tr['adr'] < lower_bound) | (X_tr['adr'] > upper_bound),\n",
    "    adr_filtered_median,\n",
    "    X_tr['adr']\n",
    ")\n",
    "\n",
    "# 4. 테스트 세트(X_te)에 새로운 'adr_processed' 피처 생성\n",
    "# 훈련 데이터에서 계산한 동일한 이상치 범위와 중앙값을 사용\n",
    "X_te['adr_processed'] = np.where(\n",
    "    (X_te['adr'] < lower_bound) | (X_te['adr'] > upper_bound),\n",
    "    adr_filtered_median,\n",
    "    X_te['adr']\n",
    ")\n",
    "\n",
    "# 처리된 피처의 통계량 확인\n",
    "print(\"처리된 adr의 통계량 (X_tr):\")\n",
    "print(X_tr['adr_processed'].describe())"
   ]
  },
  {
   "cell_type": "markdown",
   "id": "4bea6b5d",
   "metadata": {},
   "source": [
    "숙박일 feature 생성"
   ]
  },
  {
   "cell_type": "code",
   "execution_count": 17,
   "id": "6fe8326a",
   "metadata": {},
   "outputs": [],
   "source": [
    "# X_tr에 'total_stay' 피처 생성\n",
    "X_tr['total_stay'] = X_tr['stays_in_weekend_nights'] + X_tr['stays_in_week_nights']\n",
    "\n",
    "# X_te에 'total_stay' 피처 생성\n",
    "X_te['total_stay'] = X_te['stays_in_weekend_nights'] + X_te['stays_in_week_nights']"
   ]
  },
  {
   "cell_type": "markdown",
   "id": "a698945a",
   "metadata": {},
   "source": [
    "lead_time 이상치 제거  \n",
    "IQR계산법을 통해 이상치를 제거한다.  \n",
    "375보다 크면 중앙값을 넣음"
   ]
  },
  {
   "cell_type": "code",
   "execution_count": 18,
   "id": "09319640",
   "metadata": {},
   "outputs": [],
   "source": [
    "# Calculate the median lead time from the TRAINING set\n",
    "lead_time_median = X_tr['lead_time'].median()\n",
    "\n",
    "# Create 'lead_time_processed' feature for the TRAINING set\n",
    "# Values outside the 0 to 373 range are replaced with the training set median\n",
    "X_tr['lead_time_processed'] = np.where(\n",
    "    (X_tr['lead_time'] < 0) | (X_tr['lead_time'] > 373),\n",
    "    lead_time_median,\n",
    "    X_tr['lead_time']\n",
    ")\n",
    "\n",
    "# Create 'lead_time_processed' feature for the TESTING set\n",
    "# Use the SAME median calculated from the training set\n",
    "X_te['lead_time_processed'] = np.where(\n",
    "    (X_te['lead_time'] < 0) | (X_te['lead_time'] > 373),\n",
    "    lead_time_median,\n",
    "    X_te['lead_time']\n",
    ")\n"
   ]
  },
  {
   "cell_type": "markdown",
   "id": "565ec4a3",
   "metadata": {},
   "source": [
    "hotel 타입"
   ]
  },
  {
   "cell_type": "code",
   "execution_count": 19,
   "id": "a3fee4d9",
   "metadata": {},
   "outputs": [],
   "source": [
    "# 'hotel' 컬럼을 기반으로 'is_resort' 피처 생성\n",
    "# City Hotel은 0, Resort Hotel은 1로 변환\n",
    "X_tr['is_resort'] = X_tr['hotel'].map({'City Hotel': 0, 'Resort Hotel': 1})\n",
    "X_te['is_resort'] = X_te['hotel'].map({'City Hotel': 0, 'Resort Hotel': 1})\n"
   ]
  },
  {
   "cell_type": "code",
   "execution_count": 20,
   "id": "87ad0884",
   "metadata": {},
   "outputs": [
    {
     "name": "stdout",
     "output_type": "stream",
     "text": [
      "다음과 같은 문자열 컬럼이 남아있습니다: ['hotel', 'arrival_date_month', 'meal', 'country', 'market_segment', 'distribution_channel', 'reserved_room_type', 'customer_type']\n"
     ]
    }
   ],
   "source": [
    "# X_tr과 X_te에 남아있는 object 타입(문자열) 컬럼들을 찾습니다.\n",
    "cat_cols = X_tr.select_dtypes(include='object').columns.tolist()\n",
    "\n",
    "if len(cat_cols) > 0:\n",
    "    print(\"다음과 같은 문자열 컬럼이 남아있습니다:\", cat_cols)\n",
    "    \n",
    "    # X_tr과 X_te에 남아있는 문자열 컬럼들을 원-핫 인코딩합니다.\n",
    "    X_tr = pd.get_dummies(X_tr, columns=cat_cols, drop_first=True)\n",
    "    X_te = pd.get_dummies(X_te, columns=cat_cols, drop_first=True)\n",
    "    \n",
    "    # 훈련 세트와 테스트 세트의 컬럼을 일치시킵니다.\n",
    "    X_te = X_te.reindex(columns=X_tr.columns, fill_value=0)\n",
    "else:\n",
    "    print(\"모든 문자열 컬럼이 숫자형으로 변환되었습니다.\")"
   ]
  },
  {
   "cell_type": "code",
   "execution_count": 21,
   "id": "c3507952",
   "metadata": {},
   "outputs": [
    {
     "name": "stdout",
     "output_type": "stream",
     "text": [
      "X_tr columns: Index(['lead_time', 'arrival_date_year', 'arrival_date_week_number',\n",
      "       'arrival_date_day_of_month', 'stays_in_weekend_nights',\n",
      "       'stays_in_week_nights', 'adults', 'children', 'babies',\n",
      "       'is_repeated_guest',\n",
      "       ...\n",
      "       'reserved_room_type_D', 'reserved_room_type_E', 'reserved_room_type_F',\n",
      "       'reserved_room_type_G', 'reserved_room_type_H', 'reserved_room_type_L',\n",
      "       'reserved_room_type_P', 'customer_type_Group',\n",
      "       'customer_type_Transient', 'customer_type_Transient-Party'],\n",
      "      dtype='object', length=235)\n"
     ]
    }
   ],
   "source": [
    "# 남아있는 column 및 feature 확인\n",
    "print(\"X_tr columns:\", X_tr.columns)"
   ]
  },
  {
   "cell_type": "code",
   "execution_count": 22,
   "id": "321cb76c",
   "metadata": {},
   "outputs": [
    {
     "name": "stdout",
     "output_type": "stream",
     "text": [
      "X_tr의 최종 컬럼 목록:\n",
      "Index(['arrival_date_year', 'arrival_date_week_number',\n",
      "       'arrival_date_day_of_month', 'adults', 'children', 'babies',\n",
      "       'is_repeated_guest', 'previous_cancellations',\n",
      "       'previous_bookings_not_canceled', 'booking_changes',\n",
      "       ...\n",
      "       'reserved_room_type_D', 'reserved_room_type_E', 'reserved_room_type_F',\n",
      "       'reserved_room_type_G', 'reserved_room_type_H', 'reserved_room_type_L',\n",
      "       'reserved_room_type_P', 'customer_type_Group',\n",
      "       'customer_type_Transient', 'customer_type_Transient-Party'],\n",
      "      dtype='object', length=231)\n",
      "\n",
      "X_te의 최종 컬럼 목록:\n",
      "Index(['arrival_date_year', 'arrival_date_week_number',\n",
      "       'arrival_date_day_of_month', 'adults', 'children', 'babies',\n",
      "       'is_repeated_guest', 'previous_cancellations',\n",
      "       'previous_bookings_not_canceled', 'booking_changes',\n",
      "       ...\n",
      "       'reserved_room_type_D', 'reserved_room_type_E', 'reserved_room_type_F',\n",
      "       'reserved_room_type_G', 'reserved_room_type_H', 'reserved_room_type_L',\n",
      "       'reserved_room_type_P', 'customer_type_Group',\n",
      "       'customer_type_Transient', 'customer_type_Transient-Party'],\n",
      "      dtype='object', length=231)\n"
     ]
    }
   ],
   "source": [
    "# 제거할 원본 컬럼 리스트\n",
    "columns_to_drop = [\n",
    "    'hotel',\n",
    "    'lead_time',\n",
    "    'adr',\n",
    "    'stays_in_weekend_nights',\n",
    "    'stays_in_week_nights',\n",
    "    'total_guests',\n",
    "    'reserved_room_type',\n",
    "    'assigned_room_type',\n",
    "    'customer_type',\n",
    "]\n",
    "\n",
    "# X_tr에서 컬럼 제거\n",
    "X_tr = X_tr.drop(columns=columns_to_drop, errors='ignore')\n",
    "\n",
    "# X_te에서 컬럼 제거\n",
    "X_te = X_te.drop(columns=columns_to_drop, errors='ignore')\n",
    "\n",
    "# 제거 후 남은 컬럼 확인\n",
    "print(\"X_tr의 최종 컬럼 목록:\")\n",
    "print(X_tr.columns)\n",
    "\n",
    "print(\"\\nX_te의 최종 컬럼 목록:\")\n",
    "print(X_te.columns)"
   ]
  },
  {
   "cell_type": "markdown",
   "id": "9dbc6817",
   "metadata": {},
   "source": [
    "xgBOOST"
   ]
  },
  {
   "cell_type": "code",
   "execution_count": 26,
   "id": "eb7508a5",
   "metadata": {},
   "outputs": [
    {
     "name": "stdout",
     "output_type": "stream",
     "text": [
      "XGBoost 훈련 성능:\n",
      "  정확도 (Accuracy): 0.8787\n",
      "  정밀도 (Precision): 0.8585\n",
      "  재현율 (Recall): 0.8051\n",
      "  F1-점수 (F1-Score): 0.8310\n",
      "  AUC: 0.9531\n",
      "\n",
      "XGBoost 테스트 성능:\n",
      "  정확도 (Accuracy): 0.8664\n",
      "  정밀도 (Precision): 0.8457\n",
      "  재현율 (Recall): 0.7819\n",
      "  F1-점수 (F1-Score): 0.8125\n",
      "  AUC: 0.9417\n"
     ]
    }
   ],
   "source": [
    "import xgboost as xgb\n",
    "from sklearn.metrics import accuracy_score, precision_score, recall_score, f1_score, roc_auc_score\n",
    "\n",
    "# XGBoost 모델 인스턴스 생성\n",
    "# `use_label_encoder=False`와 `eval_metric`은 경고를 피하기 위해 추가\n",
    "xgb_classifier = xgb.XGBClassifier(random_state=42, use_label_encoder=False, eval_metric='logloss')\n",
    "\n",
    "# 모델 직접 학습\n",
    "xgb_classifier.fit(X_tr, y_tr)\n",
    "\n",
    "# 예측 및 성능 지표 계산\n",
    "y_tr_pred = xgb_classifier.predict(X_tr)\n",
    "y_te_pred = xgb_classifier.predict(X_te)\n",
    "y_tr_proba = xgb_classifier.predict_proba(X_tr)[:, 1]\n",
    "y_te_proba = xgb_classifier.predict_proba(X_te)[:, 1]\n",
    "\n",
    "# 훈련 성능 출력\n",
    "print(\"XGBoost 훈련 성능:\")\n",
    "print(f\"  정확도 (Accuracy): {accuracy_score(y_tr, y_tr_pred):.4f}\")\n",
    "print(f\"  정밀도 (Precision): {precision_score(y_tr, y_tr_pred):.4f}\")\n",
    "print(f\"  재현율 (Recall): {recall_score(y_tr, y_tr_pred):.4f}\")\n",
    "print(f\"  F1-점수 (F1-Score): {f1_score(y_tr, y_tr_pred):.4f}\")\n",
    "print(f\"  AUC: {roc_auc_score(y_tr, y_tr_proba):.4f}\")\n",
    "\n",
    "# 테스트 성능 출력\n",
    "print(\"\\nXGBoost 테스트 성능:\")\n",
    "print(f\"  정확도 (Accuracy): {accuracy_score(y_te, y_te_pred):.4f}\")\n",
    "print(f\"  정밀도 (Precision): {precision_score(y_te, y_te_pred):.4f}\")\n",
    "print(f\"  재현율 (Recall): {recall_score(y_te, y_te_pred):.4f}\")\n",
    "print(f\"  F1-점수 (F1-Score): {f1_score(y_te, y_te_pred):.4f}\")\n",
    "print(f\"  AUC: {roc_auc_score(y_te, y_te_proba):.4f}\")"
   ]
  },
  {
   "cell_type": "code",
   "execution_count": null,
   "id": "fbc7a34c",
   "metadata": {},
   "outputs": [],
   "source": []
  },
  {
   "cell_type": "markdown",
   "id": "2d77886d",
   "metadata": {},
   "source": [
    "## 모듈화된 파이프라인 실행\n",
    "아래 셀들은 `hotel_mod` 패키지로 전처리와 학습 과정을 간결하게 실행합니다.\n"
   ]
  },
  {
   "cell_type": "code",
   "execution_count": null,
   "id": "8a4e419d",
   "metadata": {},
   "outputs": [],
   "source": [
    "# 모듈 임포트\n",
    "from hotel_mod import settings, preprocess, modeling, utils\n",
    "\n",
    "# 시드 고정\n",
    "settings.reset_seeds(settings.RANDOM_STATE)\n",
    "\n",
    "# 데이터 로드 및 파이프라인 전처리\n",
    "import pandas as pd\n",
    "\n",
    "df = pd.read_csv(settings.DEFAULT_PATH)\n",
    "split = preprocess.pipeline(df, random_state=settings.RANDOM_STATE)\n",
    "\n",
    "# 모델 학습 (XGBoost)\n",
    "model = utils.train_xgb_classifier(split.X_train, split.y_train, random_state=settings.RANDOM_STATE)\n",
    "\n",
    "# 예측 및 지표 계산\n",
    "import numpy as np\n",
    "\n",
    "y_tr_pred = model.predict(split.X_train)\n",
    "y_te_pred = model.predict(split.X_test)\n",
    "y_tr_proba = model.predict_proba(split.X_train)[:, 1]\n",
    "y_te_proba = model.predict_proba(split.X_test)[:, 1]\n",
    "\n",
    "m_tr = modeling.evaluate_binary(split.y_train, y_tr_pred, y_tr_proba)\n",
    "m_te = modeling.evaluate_binary(split.y_test, y_te_pred, y_te_proba)\n",
    "\n",
    "print(modeling.format_metrics(\"XGBoost 훈련 성능:\", m_tr))\n",
    "print()\n",
    "print(modeling.format_metrics(\"XGBoost 테스트 성능:\", m_te))\n"
   ]
  }
 ],
 "metadata": {
  "kernelspec": {
   "display_name": ".venv",
   "language": "python",
   "name": "python3"
  },
  "language_info": {
   "codemirror_mode": {
    "name": "ipython",
    "version": 3
   },
   "file_extension": ".py",
   "mimetype": "text/x-python",
   "name": "python",
   "nbconvert_exporter": "python",
   "pygments_lexer": "ipython3",
   "version": "3.13.5"
  }
 },
 "nbformat": 4,
 "nbformat_minor": 5
}
