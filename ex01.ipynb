{
 "cells": [
  {
   "cell_type": "code",
   "execution_count": null,
   "id": "f60ac3bf",
   "metadata": {},
   "outputs": [
    {
     "ename": "ModuleNotFoundError",
     "evalue": "No module named 'easydict'",
     "output_type": "error",
     "traceback": [
      "\u001b[31m---------------------------------------------------------------------------\u001b[39m",
      "\u001b[31mModuleNotFoundError\u001b[39m                       Traceback (most recent call last)",
      "\u001b[36mCell\u001b[39m\u001b[36m \u001b[39m\u001b[32mIn[3]\u001b[39m\u001b[32m, line 1\u001b[39m\n\u001b[32m----> \u001b[39m\u001b[32m1\u001b[39m \u001b[38;5;28;01mimport\u001b[39;00m\u001b[38;5;250m \u001b[39m\u001b[34;01measydict\u001b[39;00m\n\u001b[32m      2\u001b[39m \u001b[38;5;28;01mimport\u001b[39;00m\u001b[38;5;250m \u001b[39m\u001b[34;01mjson\u001b[39;00m\n\u001b[32m      3\u001b[39m \u001b[38;5;28;01mimport\u001b[39;00m\u001b[38;5;250m \u001b[39m\u001b[34;01mpandas\u001b[39;00m\u001b[38;5;250m \u001b[39m\u001b[38;5;28;01mas\u001b[39;00m\u001b[38;5;250m \u001b[39m\u001b[34;01mpd\u001b[39;00m\n",
      "\u001b[31mModuleNotFoundError\u001b[39m: No module named 'easydict'"
     ]
    },
    {
     "ename": "",
     "evalue": "",
     "output_type": "error",
     "traceback": [
      "\u001b[1;31mThe Kernel crashed while executing code in the current cell or a previous cell. \n",
      "\u001b[1;31mPlease review the code in the cell(s) to identify a possible cause of the failure. \n",
      "\u001b[1;31mClick <a href='https://aka.ms/vscodeJupyterKernelCrash'>here</a> for more info. \n",
      "\u001b[1;31mView Jupyter <a href='command:jupyter.viewOutput'>log</a> for further details."
     ]
    }
   ],
   "source": [
    "import easydict\n",
    "import json\n",
    "import pandas as pd\n",
    "import numpy as np\n",
    "import matplotlib.pyplot as plt\n",
    "import seaborn as sns\n",
    "\n",
    "# 설정 객체 생성\n",
    "args = easydict.EasyDict()\n",
    "\n",
    "# path 정보 (수정됨)\n",
    "args.default_path = 'data/'  ## 데이터 파일 경로\n",
    "args.hotel_data_csv = args.default_path + 'hotel_bookings.csv'  # 실제 파일명\n",
    "\n",
    "# 결과 저장 경로\n",
    "args.results_path = 'results/'\n",
    "args.save_results = args.results_path + \"model_results.json\"\n",
    "\n",
    "# 데이터 분석을 위한 변수들\n",
    "args.random_state = 42\n",
    "args.results = []\n",
    "\n",
    "# 한글 폰트 설정 (시각화용)\n",
    "plt.rcParams['font.family'] = 'DejaVu Sans'\n",
    "plt.rcParams['axes.unicode_minus'] = False\n",
    "\n",
    "print(\"설정 완료!\")\n",
    "print(f\"데이터 파일 경로: {args.hotel_data_csv}\")\n",
    "args.results"
   ]
  },
  {
   "cell_type": "code",
   "execution_count": null,
   "id": "02213c99",
   "metadata": {},
   "outputs": [],
   "source": [
    "# 데이터 불러오기\n",
    "try:\n",
    "    df = pd.read_csv(args.hotel_data_csv)\n",
    "    print(\"✅ 데이터 로드 성공!\")\n",
    "    print(f\"데이터 크기: {df.shape}\")\n",
    "    print(f\"행 개수: {df.shape[0]:,}\")\n",
    "    print(f\"열 개수: {df.shape[1]}\")\n",
    "except FileNotFoundError:\n",
    "    print(\"❌ 파일을 찾을 수 없습니다. 경로를 확인해주세요.\")\n",
    "except Exception as e:\n",
    "    print(f\"❌ 데이터 로드 중 오류 발생: {e}\")\n",
    "    \n",
    "# 데이터 첫 5행 확인\n",
    "df.head()\n"
   ]
  },
  {
   "cell_type": "code",
   "execution_count": null,
   "id": "c8423260",
   "metadata": {},
   "outputs": [
    {
     "name": "stdout",
     "output_type": "stream",
     "text": [
      "=== 데이터 기본 정보 ===\n",
      "\n",
      "📊 데이터 타입:\n"
     ]
    },
    {
     "ename": "NameError",
     "evalue": "name 'df' is not defined",
     "output_type": "error",
     "traceback": [
      "\u001b[31m---------------------------------------------------------------------------\u001b[39m",
      "\u001b[31mNameError\u001b[39m                                 Traceback (most recent call last)",
      "\u001b[36mCell\u001b[39m\u001b[36m \u001b[39m\u001b[32mIn[1]\u001b[39m\u001b[32m, line 4\u001b[39m\n\u001b[32m      2\u001b[39m \u001b[38;5;28mprint\u001b[39m(\u001b[33m\"\u001b[39m\u001b[33m=== 데이터 기본 정보 ===\u001b[39m\u001b[33m\"\u001b[39m)\n\u001b[32m      3\u001b[39m \u001b[38;5;28mprint\u001b[39m(\u001b[33m\"\u001b[39m\u001b[38;5;130;01m\\n\u001b[39;00m\u001b[33m📊 데이터 타입:\u001b[39m\u001b[33m\"\u001b[39m)\n\u001b[32m----> \u001b[39m\u001b[32m4\u001b[39m \u001b[38;5;28mprint\u001b[39m(\u001b[43mdf\u001b[49m.dtypes)\n\u001b[32m      6\u001b[39m \u001b[38;5;28mprint\u001b[39m(\u001b[33m\"\u001b[39m\u001b[38;5;130;01m\\n\u001b[39;00m\u001b[33m📈 기본 통계:\u001b[39m\u001b[33m\"\u001b[39m)\n\u001b[32m      7\u001b[39m df.describe()\n",
      "\u001b[31mNameError\u001b[39m: name 'df' is not defined"
     ]
    }
   ],
   "source": [
    "# 기본 정보 확인\n",
    "print(\"=== 데이터 기본 정보 ===\")\n",
    "print(\"\\n📊 데이터 타입:\")\n",
    "print(df.dtypes)\n",
    "\n",
    "print(\"\\n📈 기본 통계:\")\n",
    "df.describe()\n"
   ]
  },
  {
   "cell_type": "code",
   "execution_count": null,
   "id": "f9a7d6be",
   "metadata": {},
   "outputs": [],
   "source": [
    "# 결측치 확인\n",
    "print(\"=== 결측치 분석 ===\")\n",
    "missing_info = pd.DataFrame({\n",
    "    '결측치_개수': df.isnull().sum(),\n",
    "    '결측치_비율(%)': (df.isnull().sum() / len(df)) * 100\n",
    "}).sort_values('결측치_개수', ascending=False)\n",
    "\n",
    "print(\"결측치가 있는 컬럼:\")\n",
    "print(missing_info[missing_info['결측치_개수'] > 0])\n",
    "\n",
    "# 결측치 시각화\n",
    "if missing_info['결측치_개수'].sum() > 0:\n",
    "    plt.figure(figsize=(12, 6))\n",
    "    missing_cols = missing_info[missing_info['결측치_개수'] > 0]\n",
    "    plt.bar(missing_cols.index, missing_cols['결측치_비율(%)'])\n",
    "    plt.title('컬럼별 결측치 비율')\n",
    "    plt.ylabel('결측치 비율 (%)')\n",
    "    plt.xticks(rotation=45)\n",
    "    plt.tight_layout()\n",
    "    plt.show()\n",
    "else:\n",
    "    print(\"✅ 결측치가 없습니다!\")\n"
   ]
  },
  {
   "cell_type": "code",
   "execution_count": null,
   "id": "7bae642b",
   "metadata": {},
   "outputs": [],
   "source": [
    "# 타겟 변수 분석 (예약 취소 여부)\n",
    "print(\"=== 타겟 변수 분석: is_canceled ===\")\n",
    "\n",
    "# 타겟 변수 분포\n",
    "target_counts = df['is_canceled'].value_counts()\n",
    "target_percentage = df['is_canceled'].value_counts(normalize=True) * 100\n",
    "\n",
    "print(\"예약 취소 여부 분포:\")\n",
    "for i, (count, pct) in enumerate(zip(target_counts, target_percentage)):\n",
    "    status = \"취소\" if target_counts.index[i] == 1 else \"유지\"\n",
    "    print(f\"{status}: {count:,}건 ({pct:.1f}%)\")\n",
    "\n",
    "# 시각화\n",
    "fig, (ax1, ax2) = plt.subplots(1, 2, figsize=(12, 5))\n",
    "\n",
    "# 막대 그래프\n",
    "target_counts.plot(kind='bar', ax=ax1, color=['skyblue', 'salmon'])\n",
    "ax1.set_title('예약 취소 여부 분포')\n",
    "ax1.set_xlabel('예약 상태 (0: 유지, 1: 취소)')\n",
    "ax1.set_ylabel('건수')\n",
    "ax1.tick_params(axis='x', rotation=0)\n",
    "\n",
    "# 파이 차트\n",
    "ax2.pie(target_counts.values, labels=['유지', '취소'], autopct='%1.1f%%', \n",
    "        colors=['skyblue', 'salmon'], startangle=90)\n",
    "ax2.set_title('예약 취소 비율')\n",
    "\n",
    "plt.tight_layout()\n",
    "plt.show()\n"
   ]
  },
  {
   "cell_type": "code",
   "execution_count": null,
   "id": "9a7d645e",
   "metadata": {},
   "outputs": [],
   "source": []
  }
 ],
 "metadata": {
  "kernelspec": {
   "display_name": ".venv",
   "language": "python",
   "name": "python3"
  },
  "language_info": {
   "codemirror_mode": {
    "name": "ipython",
    "version": 3
   },
   "file_extension": ".py",
   "mimetype": "text/x-python",
   "name": "python",
   "nbconvert_exporter": "python",
   "pygments_lexer": "ipython3",
   "version": "3.13.5"
  }
 },
 "nbformat": 4,
 "nbformat_minor": 5
}
