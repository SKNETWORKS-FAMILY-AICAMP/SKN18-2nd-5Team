{
 "cells": [
  {
   "cell_type": "markdown",
   "id": "f3e55b54",
   "metadata": {},
   "source": [
    "# 폴더 생성 및 기본 설정"
   ]
  },
  {
   "cell_type": "code",
   "execution_count": 1,
   "id": "1e08f87c",
   "metadata": {},
   "outputs": [],
   "source": [
    "import matplotlib.pyplot as plt\n",
    "import seaborn as sns\n",
    "import pandas as pd\n",
    "import os\n",
    "\n",
    "# EDA 이미지 저장 폴더 생성\n",
    "os.makedirs('eda_image', exist_ok=True)\n",
    "\n",
    "# 그래프 스타일 설정\n",
    "plt.style.use('default')\n",
    "sns.set_palette(\"husl\")"
   ]
  },
  {
   "cell_type": "code",
   "execution_count": 2,
   "id": "1bfaedea",
   "metadata": {},
   "outputs": [],
   "source": [
    "import pandas as pd\n",
    "\n",
    "def load_dataset(path:str) -> pd.DataFrame:\n",
    "    return pd.read_csv(path)\n",
    "\n",
    "\n",
    "def split_features_targets(df_dataset:pd.DataFrame, target_name:str) -> tuple:\n",
    "    df_target = df_dataset[target_name]\n",
    "    df_features = df_dataset.drop(target_name, axis=1)\n",
    "    return df_features, df_target\n",
    "\n",
    "\n",
    "def do_load_dataset(train_path:str, test_path:str, target_name:str):\n",
    "    df_train_full = load_dataset(path=train_path)\n",
    "    df_test = load_dataset(path=test_path)\n",
    "\n",
    "    df_train, df_trian_target = split_features_targets(\n",
    "        df_dataset=df_train_full, target_name=target_name)\n",
    "    \n",
    "    return df_train, df_test, df_trian_target"
   ]
  },
  {
   "cell_type": "code",
   "execution_count": 4,
   "id": "b933e37f",
   "metadata": {},
   "outputs": [],
   "source": [
    "df_train, df_test, df_trian_target = do_load_dataset(train_path=\"./data/hotel_bookings_train.csv\", test_path=\"./data/hotel_bookings_test.csv\", target_name=\"is_canceled\")"
   ]
  },
  {
   "cell_type": "code",
   "execution_count": 10,
   "id": "abd29201",
   "metadata": {},
   "outputs": [
    {
     "data": {
      "text/plain": [
       "Text(0.5, 1.0, 'Hotel Type Distribution')"
      ]
     },
     "execution_count": 10,
     "metadata": {},
     "output_type": "execute_result"
    },
    {
     "data": {
      "image/png": "[encoded data removed]",
      "text/plain": [
       "<Figure size 1000x600 with 1 Axes>"
      ]
     },
     "metadata": {},
     "output_type": "display_data"
    }
   ],
   "source": [
    "# 그래프 생성\n",
    "plt.figure(figsize=(10, 6))\n",
    "sns.countplot(data=df_train, x='hotel')\n",
    "plt.title('Hotel Type Distribution')\n"
   ]
  },
  {
   "cell_type": "code",
   "execution_count": 11,
   "id": "b1b51876",
   "metadata": {},
   "outputs": [],
   "source": [
    "import matplotlib.pyplot as plt\n",
    "import seaborn as sns\n",
    "import pandas as pd\n",
    "import os\n",
    "\n",
    "# EDA 이미지 저장 폴더 생성\n",
    "os.makedirs('eda_image', exist_ok=True)\n",
    "\n",
    "# 그래프 스타일 설정\n",
    "plt.style.use('default')\n",
    "sns.set_palette(\"husl\")"
   ]
  },
  {
   "cell_type": "code",
   "execution_count": 12,
   "id": "66f73a27",
   "metadata": {},
   "outputs": [
    {
     "data": {
      "text/plain": [
       "<Figure size 640x480 with 0 Axes>"
      ]
     },
     "metadata": {},
     "output_type": "display_data"
    }
   ],
   "source": [
    "# JPG로 저장 (기본)\n",
    "plt.savefig('eda_image/hotel_distribution.jpg', \n",
    "            dpi=300, \n",
    "            bbox_inches='tight', \n",
    "            facecolor='white',\n",
    "            format='jpg')"
   ]
  },
  {
   "cell_type": "code",
   "execution_count": null,
   "id": "62e68d28",
   "metadata": {},
   "outputs": [],
   "source": []
  }
 ],
 "metadata": {
  "kernelspec": {
   "display_name": ".venv",
   "language": "python",
   "name": "python3"
  },
  "language_info": {
   "codemirror_mode": {
    "name": "ipython",
    "version": 3
   },
   "file_extension": ".py",
   "mimetype": "text/x-python",
   "name": "python",
   "nbconvert_exporter": "python",
   "pygments_lexer": "ipython3",
   "version": "3.13.5"
  }
 },
 "nbformat": 4,
 "nbformat_minor": 5
}
