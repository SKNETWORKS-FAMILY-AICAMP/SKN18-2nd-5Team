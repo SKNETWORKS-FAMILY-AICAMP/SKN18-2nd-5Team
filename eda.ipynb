{
 "cells": [
  {
   "cell_type": "markdown",
   "id": "f3e55b54",
   "metadata": {},
   "source": [
    "# 폴더 생성 및 기본 설정"
   ]
  },
  {
   "cell_type": "code",
   "execution_count": 1,
   "id": "1e08f87c",
   "metadata": {},
   "outputs": [],
   "source": [
    "import matplotlib.pyplot as plt\n",
    "import seaborn as sns\n",
    "import pandas as pd\n",
    "import os\n",
    "\n",
    "# EDA 이미지 저장 폴더 생성\n",
    "os.makedirs('eda_image', exist_ok=True)\n",
    "\n",
    "# 그래프 스타일 설정\n",
    "plt.style.use('default')\n",
    "sns.set_palette(\"husl\")"
   ]
  },
  {
   "cell_type": "code",
   "execution_count": 2,
   "id": "1bfaedea",
   "metadata": {},
   "outputs": [],
   "source": [
    "import pandas as pd\n",
    "\n",
    "def load_dataset(path:str) -> pd.DataFrame:\n",
    "    return pd.read_csv(path)\n",
    "\n",
    "\n",
    "def split_features_targets(df_dataset:pd.DataFrame, target_name:str) -> tuple:\n",
    "    df_target = df_dataset[target_name]\n",
    "    df_features = df_dataset.drop(target_name, axis=1)\n",
    "    return df_features, df_target\n",
    "\n",
    "\n",
    "def do_load_dataset(train_path:str, test_path:str, target_name:str):\n",
    "    df_train_full = load_dataset(path=train_path)\n",
    "    df_test = load_dataset(path=test_path)\n",
    "\n",
    "    df_train, df_trian_target = split_features_targets(\n",
    "        df_dataset=df_train_full, target_name=target_name)\n",
    "    \n",
    "    return df_train, df_test, df_trian_target"
   ]
  },
  {
   "cell_type": "code",
   "execution_count": 4,
   "id": "b933e37f",
   "metadata": {},
   "outputs": [],
   "source": [
    "df_train, df_test, df_trian_target = do_load_dataset(train_path=\"./data/hotel_bookings_train.csv\", test_path=\"./data/hotel_bookings_test.csv\", target_name=\"is_canceled\")"
   ]
  },
  {
   "cell_type": "code",
   "execution_count": null,
   "id": "62e68d28",
   "metadata": {},
   "outputs": [],
   "source": []
  }
 ],
 "metadata": {
  "kernelspec": {
   "display_name": ".venv",
   "language": "python",
   "name": "python3"
  },
  "language_info": {
   "codemirror_mode": {
    "name": "ipython",
    "version": 3
   },
   "file_extension": ".py",
   "mimetype": "text/x-python",
   "name": "python",
   "nbconvert_exporter": "python",
   "pygments_lexer": "ipython3",
   "version": "3.13.5"
  }
 },
 "nbformat": 4,
 "nbformat_minor": 5
}
