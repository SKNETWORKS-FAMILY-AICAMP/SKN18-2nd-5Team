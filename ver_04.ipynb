{
 "cells": [
  {
   "cell_type": "markdown",
   "id": "6f100cb2",
   "metadata": {},
   "source": [
    "데이터 전처리 없이 머신러닝 돌리기"
   ]
  },
  {
   "cell_type": "code",
   "execution_count": 1,
   "id": "8ba87913",
   "metadata": {},
   "outputs": [],
   "source": [
    "# 라이브러리\n",
    "import os\n",
    "import pandas as pd\n",
    "import numpy as np\n",
    "\n",
    "# 데이터 시각화\n",
    "import matplotlib.pyplot as plt\n",
    "import matplotlib as mpl\n",
    "import seaborn as sns\n",
    "\n",
    "import torch\n",
    "import random\n",
    "\n",
    "def reset_seeds(seed=42):\n",
    "    random.seed(seed)\n",
    "    os.environ['PYTHONHASHSEED'] = str(seed)    # 파이썬 환경변수 시드 고정\n",
    "    np.random.seed(seed)\n",
    "    torch.manual_seed(seed) # cpu 연산 무작위 고정\n",
    "    torch.cuda.manual_seed(seed) # gpu 연산 무작위 고정\n",
    "    torch.backends.cudnn.deterministic = True  # cuda 라이브러리에서 Deterministic(결정론적)으로 예측하기 (예측에 대한 불확실성 제거 )"
   ]
  },
  {
   "cell_type": "code",
   "execution_count": 2,
   "id": "dd4b8b6a",
   "metadata": {},
   "outputs": [],
   "source": [
    "# hotel폴더의 archive폴더에 있는 CSV로드\n",
    "import easydict\n",
    "args = easydict.EasyDict()\n",
    "\n",
    "args.default_path = './archive/hotel_bookings.csv'\n",
    "\n",
    "# 데이터 분석을 위한 변수들\n",
    "args.random_state = 21"
   ]
  },
  {
   "cell_type": "markdown",
   "id": "c4a815e3",
   "metadata": {},
   "source": [
    "데이터 로드"
   ]
  },
  {
   "cell_type": "code",
   "execution_count": 3,
   "id": "a5c9a36c",
   "metadata": {},
   "outputs": [],
   "source": [
    "plt.style.use('fivethirtyeight')\n",
    "plt.ion()\n",
    "\n",
    "import warnings\n",
    "warnings.filterwarnings('ignore')"
   ]
  },
  {
   "cell_type": "code",
   "execution_count": 4,
   "id": "aa5a3c7a",
   "metadata": {},
   "outputs": [
    {
     "data": {
      "text/plain": [
       "(119390, 32)"
      ]
     },
     "execution_count": 4,
     "metadata": {},
     "output_type": "execute_result"
    }
   ],
   "source": [
    "df = pd.read_csv(args.default_path)\n",
    "df.shape"
   ]
  },
  {
   "cell_type": "code",
   "execution_count": 5,
   "id": "b57e3692",
   "metadata": {},
   "outputs": [
    {
     "data": {
      "text/plain": [
       "'PRT'"
      ]
     },
     "execution_count": 5,
     "metadata": {},
     "output_type": "execute_result"
    }
   ],
   "source": [
    "df[\"country\"].mode()[0]"
   ]
  },
  {
   "cell_type": "code",
   "execution_count": 6,
   "id": "69776da1",
   "metadata": {},
   "outputs": [
    {
     "data": {
      "text/plain": [
       "hotel                              object\n",
       "is_canceled                         int64\n",
       "lead_time                           int64\n",
       "arrival_date_year                   int64\n",
       "arrival_date_month                 object\n",
       "arrival_date_week_number            int64\n",
       "arrival_date_day_of_month           int64\n",
       "stays_in_weekend_nights             int64\n",
       "stays_in_week_nights                int64\n",
       "adults                              int64\n",
       "children                          float64\n",
       "babies                              int64\n",
       "meal                               object\n",
       "country                            object\n",
       "market_segment                     object\n",
       "distribution_channel               object\n",
       "is_repeated_guest                   int64\n",
       "previous_cancellations              int64\n",
       "previous_bookings_not_canceled      int64\n",
       "reserved_room_type                 object\n",
       "assigned_room_type                 object\n",
       "booking_changes                     int64\n",
       "deposit_type                       object\n",
       "agent                             float64\n",
       "company                           float64\n",
       "days_in_waiting_list                int64\n",
       "customer_type                      object\n",
       "adr                               float64\n",
       "required_car_parking_spaces         int64\n",
       "total_of_special_requests           int64\n",
       "reservation_status                 object\n",
       "reservation_status_date            object\n",
       "dtype: object"
      ]
     },
     "execution_count": 6,
     "metadata": {},
     "output_type": "execute_result"
    }
   ],
   "source": [
    "df.dtypes"
   ]
  },
  {
   "cell_type": "code",
   "execution_count": 7,
   "id": "e05642b9",
   "metadata": {},
   "outputs": [],
   "source": [
    "# company, agent, children → 0으로 채우기\n",
    "df[\"company\"] = df[\"company\"].fillna(0)\n",
    "df[\"agent\"] = df[\"agent\"].fillna(0)\n",
    "df[\"children\"] = df[\"children\"].fillna(0)\n",
    "\n",
    "# country → 최빈값으로 채우기\n",
    "df[\"country\"] = df[\"country\"].fillna(df[\"country\"].mode()[0])"
   ]
  },
  {
   "cell_type": "markdown",
   "id": "4bd5eead",
   "metadata": {},
   "source": [
    "train, test 분리"
   ]
  },
  {
   "cell_type": "code",
   "execution_count": 8,
   "id": "e91bb0d3",
   "metadata": {},
   "outputs": [
    {
     "name": "stdout",
     "output_type": "stream",
     "text": [
      "Train: (76409, 32)\n",
      "Eval : (19103, 32)\n",
      "Test : (23878, 32)\n"
     ]
    }
   ],
   "source": [
    "from sklearn.model_selection import train_test_split\n",
    "\n",
    "# 전체 train/test 먼저\n",
    "train_df, test_df = train_test_split(df, test_size=0.2, random_state=42, stratify=df['is_canceled'])\n",
    "\n",
    "# train 안에서 다시 eval 분리\n",
    "train_df, eval_df = train_test_split(train_df, test_size=0.2, random_state=42, stratify=train_df['is_canceled'])\n",
    "\n",
    "print(\"Train:\", train_df.shape)\n",
    "print(\"Eval :\", eval_df.shape)\n",
    "print(\"Test :\", test_df.shape)\n",
    "# 과적합을 막기 위해 train, eval, test로 나눔"
   ]
  },
  {
   "cell_type": "markdown",
   "id": "24c34ffb",
   "metadata": {},
   "source": [
    "feature 생성"
   ]
  },
  {
   "cell_type": "code",
   "execution_count": 9,
   "id": "31450c35",
   "metadata": {},
   "outputs": [],
   "source": [
    "from sklearn.ensemble import StackingClassifier\n",
    "\n",
    "from sklearn.neural_network import MLPClassifier\n",
    "from sklearn.linear_model import LogisticRegression\n",
    "from sklearn.ensemble import RandomForestClassifier"
   ]
  },
  {
   "cell_type": "code",
   "execution_count": 11,
   "id": "48f84373",
   "metadata": {},
   "outputs": [],
   "source": [
    "# X, y 정의\n",
    "X = df.drop([\"is_canceled\", \"reservation_status\", \"reservation_status_date\"], axis=1)\n",
    "y = df[\"is_canceled\"]\n",
    "\n",
    "# train/test split\n",
    "X_tr, X_te, y_tr, y_te = train_test_split(\n",
    "    X, y, test_size=0.2, random_state=42, stratify=y\n",
    ")"
   ]
  },
  {
   "cell_type": "markdown",
   "id": "82d8e26e",
   "metadata": {},
   "source": [
    "feature 생성"
   ]
  },
  {
   "cell_type": "code",
   "execution_count": null,
   "id": "441e8cd5",
   "metadata": {},
   "outputs": [],
   "source": [
    "# Create 'total_guests' on both the training and testing sets\n",
    "X_tr['total_guests'] = X_tr['adults'] + X_tr['children'] + X_tr['babies']\n",
    "X_te['total_guests'] = X_te['adults'] + X_te['children'] + X_te['babies']\n",
    "\n",
    "# Create 'is_alone' feature for both sets\n",
    "# 1 if total_guests is 1, otherwise 0\n",
    "X_tr['is_alone'] = X_tr['total_guests'].apply(lambda x: 1 if x == 1 else 0)\n",
    "X_te['is_alone'] = X_te['total_guests'].apply(lambda x: 1 if x == 1 else 0)\n",
    "\n",
    "# Verify the new feature has been added\n",
    "print(\"X_tr shape:\", X_tr.shape)\n",
    "print(\"X_te shape:\", X_te.shape)\n",
    "\n",
    "# Optionally, you can drop the intermediate 'total_guests' feature\n",
    "X_tr = X_tr.drop('total_guests', axis=1)\n",
    "X_te = X_te.drop('total_guests', axis=1)\n",
    "\n",
    "print(\"\\nAfter dropping 'total_guests':\")\n",
    "print(\"X_tr columns:\", X_tr.columns)\n",
    "print(\"X_te columns:\", X_te.columns)"
   ]
  },
  {
   "cell_type": "markdown",
   "id": "82f43f12",
   "metadata": {},
   "source": [
    "company, agent  \n",
    "회사와 대행사가 미치는 영향 분석"
   ]
  },
  {
   "cell_type": "code",
   "execution_count": null,
   "id": "b3bc74a6",
   "metadata": {},
   "outputs": [],
   "source": [
    "# X_te[company]의 값이 0보다 크면1 / 작으면 0# company 값이 0보다 크면 1, 아니면 0  \n",
    "# .astype(int) : Boolean을 정수로 변환\n",
    "X_te['has_company'] = (X_te['company'] > 0).astype(int)\n",
    "X_tr['has_company'] = (X_tr['company'] > 0).astype(int)\n",
    "# 확인\n",
    "print(\"has_company 분포:\")\n",
    "print(X_tr['has_company'].value_counts()/len(X_tr['has_company']))"
   ]
  },
  {
   "cell_type": "code",
   "execution_count": null,
   "id": "1557562f",
   "metadata": {},
   "outputs": [],
   "source": [
    "# X_te[company]의 값이 0보다 크면1 / 작으면 0# company 값이 0보다 크면 1, 아니면 0  \n",
    "# .astype(int) : Boolean을 정수로 변환\n",
    "X_te['has_company'] = (X_te['company'] > 0).astype(int)\n",
    "X_tr['has_company'] = (X_tr['company'] > 0).astype(int) \n",
    "# 확인\n",
    "print(\"has_company 분포:\")\n",
    "print(X_tr['has_company'].value_counts()/len(X_tr['has_company']))"
   ]
  },
  {
   "cell_type": "markdown",
   "id": "8df5e406",
   "metadata": {},
   "source": [
    "meal 형태  \n",
    "FB 즉 식사를 3번 제공하면 취소율이 높았음"
   ]
  },
  {
   "cell_type": "code",
   "execution_count": null,
   "id": "29113f37",
   "metadata": {},
   "outputs": [],
   "source": [
    "# meal이 FB이면 1, 아니면 0인 피처생성\n",
    "import numpy as np\n",
    "\n",
    "# np.where로 조건부 값 할당\n",
    "X_tr['is_FB_meal'] = np.where(X_tr['meal'] == 'FB', 1, 0)\n",
    "X_te['is_FB_meal'] = np.where(X_te['meal'] == 'FB', 1, 0)\n",
    "\n",
    "# 확인\n",
    "print(\"is_FB_meal 분포:\")\n",
    "print(X_tr['is_FB_meal'].value_counts()/len(X_tr['is_FB_meal']))"
   ]
  },
  {
   "cell_type": "markdown",
   "id": "371f6e98",
   "metadata": {},
   "source": [
    "예약한 방과 실제 방이 다른경우 끼치는 영향"
   ]
  },
  {
   "cell_type": "code",
   "execution_count": 1,
   "id": "ffbfcbfe",
   "metadata": {},
   "outputs": [
    {
     "ename": "NameError",
     "evalue": "name 'df' is not defined",
     "output_type": "error",
     "traceback": [
      "\u001b[31m---------------------------------------------------------------------------\u001b[39m",
      "\u001b[31mNameError\u001b[39m                                 Traceback (most recent call last)",
      "\u001b[36mCell\u001b[39m\u001b[36m \u001b[39m\u001b[32mIn[1]\u001b[39m\u001b[32m, line 4\u001b[39m\n\u001b[32m      1\u001b[39m \u001b[38;5;28;01mimport\u001b[39;00m\u001b[38;5;250m \u001b[39m\u001b[34;01mnumpy\u001b[39;00m\u001b[38;5;250m \u001b[39m\u001b[38;5;28;01mas\u001b[39;00m\u001b[38;5;250m \u001b[39m\u001b[34;01mnp\u001b[39;00m\n\u001b[32m      3\u001b[39m \u001b[38;5;66;03m# 'is_room_changed' 컬럼 생성\u001b[39;00m\n\u001b[32m----> \u001b[39m\u001b[32m4\u001b[39m df[\u001b[33m'\u001b[39m\u001b[33mis_room_changed\u001b[39m\u001b[33m'\u001b[39m] = np.where(\u001b[43mdf\u001b[49m[\u001b[33m'\u001b[39m\u001b[33mreserved_room_type\u001b[39m\u001b[33m'\u001b[39m] == df[\u001b[33m'\u001b[39m\u001b[33massigned_room_type\u001b[39m\u001b[33m'\u001b[39m], \u001b[32m0\u001b[39m, \u001b[32m1\u001b[39m)\n\u001b[32m      6\u001b[39m \u001b[38;5;66;03m# 새로 생성된 피처 확인\u001b[39;00m\n\u001b[32m      7\u001b[39m \u001b[38;5;28mprint\u001b[39m(df[[\u001b[33m'\u001b[39m\u001b[33mreserved_room_type\u001b[39m\u001b[33m'\u001b[39m, \u001b[33m'\u001b[39m\u001b[33massigned_room_type\u001b[39m\u001b[33m'\u001b[39m, \u001b[33m'\u001b[39m\u001b[33mis_room_changed\u001b[39m\u001b[33m'\u001b[39m]].head())\n",
      "\u001b[31mNameError\u001b[39m: name 'df' is not defined"
     ]
    }
   ],
   "source": [
    "import numpy as np\n",
    "\n",
    "# 'is_room_changed' 컬럼 생성\n",
    "df['is_room_changed'] = np.where(df['reserved_room_type'] == df['assigned_room_type'], 0, 1)\n",
    "\n",
    "# 새로 생성된 피처 확인\n",
    "print(df[['reserved_room_type', 'assigned_room_type', 'is_room_changed']].head())"
   ]
  },
  {
   "cell_type": "code",
   "execution_count": null,
   "id": "663cf46a",
   "metadata": {},
   "outputs": [],
   "source": [
    "import numpy as np\n",
    "\n",
    "# X_tr에 'is_room_changed' 피처 생성\n",
    "X_tr['is_room_changed'] = np.where(X_tr['reserved_room_type'] == X_tr['assigned_room_type'], 0, 1)\n",
    "\n",
    "# X_te에 'is_room_changed' 피처 생성\n",
    "X_te['is_room_changed'] = np.where(X_te['reserved_room_type'] == X_te['assigned_room_type'], 0, 1)\n",
    "\n",
    "# 피처가 제대로 추가되었는지 확인\n",
    "print(\"X_tr columns:\", X_tr.columns)\n",
    "print(\"X_te columns:\", X_te.columns)"
   ]
  },
  {
   "cell_type": "markdown",
   "id": "39df89ec",
   "metadata": {},
   "source": [
    "방이 같으면 0 방이 변경이 있으면 1"
   ]
  },
  {
   "cell_type": "markdown",
   "id": "638491fe",
   "metadata": {},
   "source": [
    "ard 이상치 제거  \n",
    "1~200 사이의 값을 제외하고 전부 중앙값으로 처리"
   ]
  },
  {
   "cell_type": "code",
   "execution_count": null,
   "id": "00c0dd20",
   "metadata": {},
   "outputs": [],
   "source": [
    "import numpy as np\n",
    "\n",
    "# 훈련 데이터(X_tr)와 테스트 데이터(X_te)의 adr 중앙값 계산\n",
    "# 이 때, 이상치가 포함될 수 있으므로 adr의 전체 중앙값을 사용하는 것이 더 일관적입니다.\n",
    "adr_median = df['adr'].median()\n",
    "\n",
    "# X_tr에 adr 중앙값 처리 피처 생성\n",
    "X_tr['adr_processed'] = np.where(\n",
    "    (X_tr['adr'] < 1) | (X_tr['adr'] > 200),\n",
    "    adr_median,\n",
    "    X_tr['adr']\n",
    ")\n",
    "\n",
    "# X_te에 adr 중앙값 처리 피처 생성\n",
    "X_te['adr_processed'] = np.where(\n",
    "    (X_te['adr'] < 1) | (X_te['adr'] > 200),\n",
    "    adr_median,\n",
    "    X_te['adr']\n",
    ")\n",
    "\n",
    "# 처리된 피처의 분포 확인 (예: X_tr)\n",
    "print(f\"Original adr median: {X_tr['adr'].median():.2f}\")\n",
    "print(f\"Processed adr median: {X_tr['adr_processed'].median():.2f}\")\n",
    "\n",
    "print(\"\\nOriginal adr value counts (outliers):\")\n",
    "print(X_tr[(X_tr['adr'] < 1) | (X_tr['adr'] > 200)]['adr'].describe())\n",
    "\n",
    "print(\"\\nProcessed adr value counts:\")\n",
    "print(X_tr['adr_processed'].describe())"
   ]
  },
  {
   "cell_type": "markdown",
   "id": "a698945a",
   "metadata": {},
   "source": [
    "lead_time 이상치 제거  \n",
    "IQR계산법을 통해 이상치를 제거한다.  \n",
    "375보다 크면 중앙값을 넣음"
   ]
  },
  {
   "cell_type": "code",
   "execution_count": null,
   "id": "09319640",
   "metadata": {},
   "outputs": [],
   "source": [
    "# Calculate the median lead time from the TRAINING set\n",
    "lead_time_median = X_tr['lead_time'].median()\n",
    "\n",
    "# Create 'lead_time_processed' feature for the TRAINING set\n",
    "# Values outside the 0 to 373 range are replaced with the training set median\n",
    "X_tr['lead_time_processed'] = np.where(\n",
    "    (X_tr['lead_time'] < 0) | (X_tr['lead_time'] > 373),\n",
    "    lead_time_median,\n",
    "    X_tr['lead_time']\n",
    ")\n",
    "\n",
    "# Create 'lead_time_processed' feature for the TESTING set\n",
    "# Use the SAME median calculated from the training set\n",
    "X_te['lead_time_processed'] = np.where(\n",
    "    (X_te['lead_time'] < 0) | (X_te['lead_time'] > 373),\n",
    "    lead_time_median,\n",
    "    X_te['lead_time']\n",
    ")\n"
   ]
  },
  {
   "cell_type": "markdown",
   "id": "565ec4a3",
   "metadata": {},
   "source": [
    "hotel 타입"
   ]
  },
  {
   "cell_type": "code",
   "execution_count": null,
   "id": "a3fee4d9",
   "metadata": {},
   "outputs": [],
   "source": [
    "# 'hotel' 컬럼을 기반으로 'is_resort' 피처 생성\n",
    "# City Hotel은 0, Resort Hotel은 1로 변환\n",
    "X_tr['is_resort'] = X_tr['hotel'].map({'City Hotel': 0, 'Resort Hotel': 1})\n",
    "X_te['is_resort'] = X_te['hotel'].map({'City Hotel': 0, 'Resort Hotel': 1})\n",
    "\n",
    "# 변환이 제대로 되었는지 확인\n",
    "print(\"X_tr의 'is_resort' 값 빈도수:\")\n",
    "print(X_tr['is_resort'].value_counts())\n",
    "\n",
    "print(\"\\nX_te의 'is_resort' 값 빈도수:\")\n",
    "print(X_te['is_resort'].value_counts())"
   ]
  },
  {
   "cell_type": "code",
   "execution_count": null,
   "id": "abae38b1",
   "metadata": {},
   "outputs": [
    {
     "name": "stdout",
     "output_type": "stream",
     "text": [
      "훈련 점수: 0.8227\n",
      "테스트 점수: 0.8000\n"
     ]
    }
   ],
   "source": [
    "SEED = 42\n",
    "reset_seeds(SEED)\n",
    "\n",
    "# ==========================\n",
    "# 스태킹 모델 정의\n",
    "# ==========================\n",
    "estimators = [\n",
    "    (\"mlp\", MLPClassifier(max_iter=1000, random_state=SEED)),\n",
    "    (\"lr\", LogisticRegression(max_iter=1000, random_state=SEED)),\n",
    "    (\"rf\", RandomForestClassifier(random_state=SEED))\n",
    "]\n",
    "\n",
    "stack = StackingClassifier(\n",
    "    estimators=estimators,\n",
    "    final_estimator=LogisticRegression(random_state=SEED),\n",
    "    n_jobs=-1\n",
    ")\n",
    "\n",
    "# ==========================\n",
    "# 전체 파이프라인\n",
    "# ==========================\n",
    "model = Pipeline(steps=[\n",
    "    (\"preprocessor\", preprocessor),  # 전처리기 (예: OneHotEncoder, StandardScaler 등)\n",
    "    (\"stack\", stack)\n",
    "])\n",
    "\n",
    "# ==========================\n",
    "# 학습 및 평가\n",
    "# ==========================\n",
    "model.fit(X_tr, y_tr)\n",
    "\n",
    "print(f\"훈련 점수: {model.score(X_tr, y_tr):.4f}\")\n",
    "print(f\"테스트 점수: {model.score(X_te, y_te):.4f}\")\n"
   ]
  },
  {
   "cell_type": "code",
   "execution_count": 12,
   "id": "fe2c3733",
   "metadata": {},
   "outputs": [],
   "source": [
    "from sklearn.preprocessing import OneHotEncoder, StandardScaler\n",
    "from sklearn.compose import ColumnTransformer\n",
    "from sklearn.pipeline import Pipeline\n",
    "\n",
    "# 수치형/범주형 컬럼 분리\n",
    "num_cols = X_tr.select_dtypes(include=['int64','float64']).columns.tolist()\n",
    "cat_cols = X_tr.select_dtypes(include=['object']).columns.tolist()\n",
    "\n",
    "# 전처리 파이프라인\n",
    "preprocessor = ColumnTransformer(\n",
    "    transformers=[\n",
    "        # (\"num\", StandardScaler(), num_cols),\n",
    "        (\"cat\", OneHotEncoder(handle_unknown=\"ignore\"), cat_cols)\n",
    "    ]\n",
    ")\n"
   ]
  },
  {
   "cell_type": "code",
   "execution_count": null,
   "id": "78094319",
   "metadata": {},
   "outputs": [],
   "source": [
    "SEED = 42\n",
    "reset_seeds(SEED)\n",
    "\n",
    "# ==========================\n",
    "# 스태킹 모델 정의\n",
    "# ==========================\n",
    "estimators = [\n",
    "    (\"mlp\", MLPClassifier(max_iter=1000, random_state=SEED)),\n",
    "    (\"lr\", LogisticRegression(max_iter=1000, random_state=SEED)),\n",
    "    (\"rf\", RandomForestClassifier(random_state=SEED))\n",
    "]\n",
    "\n",
    "stack = StackingClassifier(\n",
    "    estimators=estimators,\n",
    "    final_estimator=LogisticRegression(random_state=SEED),\n",
    "    n_jobs=-1\n",
    ")\n",
    "\n",
    "# ==========================\n",
    "# 전체 파이프라인\n",
    "# ==========================\n",
    "model = Pipeline(steps=[\n",
    "    (\"preprocessor\", preprocessor),  # 전처리기 (예: OneHotEncoder, StandardScaler 등)\n",
    "    (\"stack\", stack)\n",
    "])\n",
    "\n",
    "# ==========================\n",
    "# 학습 및 평가\n",
    "# ==========================\n",
    "model.fit(X_tr, y_tr)\n",
    "\n",
    "print(f\"훈련 점수: {model.score(X_tr, y_tr):.4f}\")\n",
    "print(f\"테스트 점수: {model.score(X_te, y_te):.4f}\")\n"
   ]
  },
  {
   "cell_type": "code",
   "execution_count": null,
   "id": "c4ebb14a",
   "metadata": {},
   "outputs": [
    {
     "name": "stdout",
     "output_type": "stream",
     "text": [
      "Index(['hotel', 'lead_time', 'arrival_date_year', 'arrival_date_month',\n",
      "       'arrival_date_week_number', 'arrival_date_day_of_month',\n",
      "       'stays_in_weekend_nights', 'stays_in_week_nights', 'adults', 'children',\n",
      "       'babies', 'meal', 'country', 'market_segment', 'distribution_channel',\n",
      "       'is_repeated_guest', 'previous_cancellations',\n",
      "       'previous_bookings_not_canceled', 'reserved_room_type',\n",
      "       'assigned_room_type', 'booking_changes', 'deposit_type', 'agent',\n",
      "       'company', 'days_in_waiting_list', 'customer_type', 'adr',\n",
      "       'required_car_parking_spaces', 'total_of_special_requests',\n",
      "       'reservation_status', 'reservation_status_date'],\n",
      "      dtype='object')\n"
     ]
    }
   ],
   "source": [
    "print(X.columns)"
   ]
  },
  {
   "cell_type": "code",
   "execution_count": null,
   "id": "60fb1a14",
   "metadata": {},
   "outputs": [],
   "source": []
  }
 ],
 "metadata": {
  "kernelspec": {
   "display_name": ".venv",
   "language": "python",
   "name": "python3"
  },
  "language_info": {
   "codemirror_mode": {
    "name": "ipython",
    "version": 3
   },
   "file_extension": ".py",
   "mimetype": "text/x-python",
   "name": "python",
   "nbconvert_exporter": "python",
   "pygments_lexer": "ipython3",
   "version": "3.13.5"
  }
 },
 "nbformat": 4,
 "nbformat_minor": 5
}
