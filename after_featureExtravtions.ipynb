{
 "cells": [
  {
   "cell_type": "code",
   "execution_count": 1,
   "id": "6f78784b",
   "metadata": {},
   "outputs": [],
   "source": [
    "import matplotlib.pyplot as plt\n",
    "import seaborn as sns\n",
    "import pandas as pd\n",
    "import os\n",
    "\n",
    "# EDA 이미지 저장 폴더 생성\n",
    "os.makedirs('eda_image', exist_ok=True)\n",
    "\n",
    "# 그래프 스타일 설정\n",
    "plt.style.use('default')\n",
    "sns.set_palette(\"husl\")"
   ]
  },
  {
   "cell_type": "code",
   "execution_count": 2,
   "id": "de56f6f4",
   "metadata": {},
   "outputs": [],
   "source": [
    "import pandas as pd\n",
    "\n",
    "def load_dataset(path:str) -> pd.DataFrame:\n",
    "    return pd.read_csv(path)\n",
    "\n",
    "\n",
    "def split_features_targets(df_dataset:pd.DataFrame, target_name:str) -> tuple:\n",
    "    df_target = df_dataset[target_name]\n",
    "    df_features = df_dataset.drop(target_name, axis=1)\n",
    "    return df_features, df_target\n",
    "\n",
    "\n",
    "def do_load_dataset(train_path:str, test_path:str, target_name:str):\n",
    "    df_train_full = load_dataset(path=train_path)\n",
    "    df_test = load_dataset(path=test_path)\n",
    "\n",
    "    df_train, df_trian_target = split_features_targets(\n",
    "        df_dataset=df_train_full, target_name=target_name)\n",
    "    \n",
    "    return df_train, df_test, df_trian_target"
   ]
  },
  {
   "cell_type": "code",
   "execution_count": 3,
   "id": "9c9aa1b2",
   "metadata": {},
   "outputs": [],
   "source": [
    "df_train, df_test, df_trian_target = do_load_dataset(train_path=\"./data/hotel_bookings_train.csv\", test_path=\"./data/hotel_bookings_test.csv\", target_name=\"is_canceled\")"
   ]
  },
  {
   "cell_type": "code",
   "execution_count": 4,
   "id": "70b2215c",
   "metadata": {},
   "outputs": [],
   "source": [
    "'''\n",
    "피처 생성\n",
    "'''\n",
    "\n",
    "import pandas as pd\n",
    "import numpy as np\n",
    "\n",
    "def do_feature_extraction(df_train:pd.DataFrame, df_test:pd.DataFrame):\n",
    "    # has_conpany\n",
    "    df_train['has_company'] = (df_train['company'] > 0).astype(int)\n",
    "    df_test['has_company'] = (df_test['company'] > 0).astype(int) \n",
    "\n",
    "    # has_agent\n",
    "    df_train['has_agent'] = (df_train['agent'] > 0).astype(int)\n",
    "    df_test['has_agent'] = (df_test['agent'] > 0).astype(int)\n",
    "\n",
    "    # is_FB_meal\n",
    "    df_train['is_FB_meal'] = np.where(df_train['meal'] == 'FB', 1, 0)\n",
    "    df_test['is_FB_meal'] = np.where(df_test['meal'] == 'FB', 1, 0)\n",
    "\n",
    "    # market_rist_level -> 인코딩 필요(라이트gbm, 캣부스트 제외)\n",
    "        # 리스크 레벨 매핑 딕셔너리\n",
    "    risk_mapping = {\n",
    "    'Groups': 'High risk',\n",
    "    'Online TA': 'High risk', \n",
    "    'Offline TA/TO': 'Medium risk',\n",
    "    'Direct': 'Low risk',\n",
    "    'Corporate': 'Low risk',\n",
    "    'Complementary': 'Low risk'}\n",
    "    df_train['market_risk_level'] = df_train['market_segment'].map(risk_mapping)\n",
    "    df_test['market_risk_level'] = df_test['market_segment'].map(risk_mapping)\n",
    "\n",
    "    # is_HighRisk_markket_risk\n",
    "    df_train['is_High_risk_market_risk'] = (df_train['market_risk_level'] == 'High risk').astype(int)\n",
    "    df_test['is_High_risk_market_risk'] = (df_test['market_risk_level'] == 'High risk').astype(int)\n",
    "    \n",
    "    # adr_processed\n",
    "    # 1. IQR을 사용하여 훈련 데이터(X_tr)의 이상치 범위 계산\n",
    "    Q1 = df_train['adr'].quantile(0.25)\n",
    "    Q3 = df_train['adr'].quantile(0.75)\n",
    "    IQR = Q3 - Q1\n",
    "    upper_bound = Q3 + 1.5 * IQR\n",
    "    lower_bound = Q1 - 1.5 * IQR\n",
    "    # 2. 이상치(outliers)를 제외한 훈련 데이터의 adr 중앙값 재계산\n",
    "    # adr은 보통 0보다 크므로 하한선을 0으로 설정하거나 IQR로 계산된 값을 사용\n",
    "    # 여기서는 IQR로 계산된 값을 사용하여 더 일반적인 방법으로 처리\n",
    "    adr_filtered_median = df_train.loc[(df_train['adr'] >= lower_bound) & (df_train['adr'] <= upper_bound), 'adr'].median()\n",
    "    # 3. 훈련 세트(X_tr)에 새로운 'adr_processed' 피처 생성\n",
    "    # 이상치 범위(lower_bound ~ upper_bound)를 벗어나는 값들을 필터링된 중앙값으로 대체\n",
    "    df_train['adr_processed'] = np.where(\n",
    "        (df_train['adr'] < lower_bound) | (df_train['adr'] > upper_bound),\n",
    "        adr_filtered_median,\n",
    "        df_train['adr'])\n",
    "    # 4. 테스트 세트(X_te)에 새로운 'adr_processed' 피처 생성\n",
    "    # 훈련 데이터에서 계산한 동일한 이상치 범위와 중앙값을 사용\n",
    "    df_test['adr_processed'] = np.where(\n",
    "        (df_test['adr'] < lower_bound) | (df_test['adr'] > upper_bound),\n",
    "        adr_filtered_median,\n",
    "        df_test['adr'])\n",
    "\n",
    "    # lead_time_processed\n",
    "    # 1. 리드타임 700일 이상 이상치 제거 - 700일 미만 데이터만 유지\n",
    "    df_train = df_train[df_train['lead_time'] < 700]\n",
    "    df_test = df_test[df_test['lead_time'] < 700]\n",
    "    # 2. # 1단계: 훈련 데이터(X_tr)에서 IQR을 사용하여 이상치 범위 계산\n",
    "    Q1 = df_train['lead_time'].quantile(0.25)\n",
    "    Q3 = df_train['lead_time'].quantile(0.75)\n",
    "    IQR = Q3 - Q1\n",
    "    upper_bound = Q3 + 1.5 * IQR\n",
    "    # 2단계: 이상치를 제외한 데이터로 중앙값 재계산\n",
    "    # lead_time은 음수일 수 없으므로 하한선은 0으로 설정합니다.\n",
    "    lead_time_filtered_median = df_train.loc[(df_train['lead_time'] >= 0) & (df_train['lead_time'] <= upper_bound), 'lead_time'].median()\n",
    "    # 3단계: X_tr에 'lead_time_processed' 피처 생성 후  리드타임에 저장\n",
    "    # 0 미만이거나 상한선(upper_bound)을 초과하는 값을 필터링된 중앙값으로 대체\n",
    "    df_train['lead_time_processed'] = np.where(\n",
    "        (df_train['lead_time'] < 0) | (df_train['lead_time'] > upper_bound),\n",
    "        lead_time_filtered_median,\n",
    "        df_train['lead_time'])\n",
    "    # 4단계: X_te에 'lead_time_processed' 피처 생성 후  리드타임에 저장\n",
    "    # 훈련 데이터에서 계산한 동일한 상한선과 중앙값을 사용\n",
    "    df_test['lead_time_processed'] = np.where(\n",
    "        (df_test['lead_time'] < 0) | (df_test['lead_time'] > upper_bound),\n",
    "        lead_time_filtered_median,\n",
    "        df_test['lead_time'])\n",
    "\n",
    "    # is_alone\n",
    "    ## 준호님꺼\n",
    "    df_train['total_guests'] = df_train['adults'] + df_train['children'] + df_train['babies']\n",
    "    df_test['total_guests'] = df_test['adults'] + df_test['children'] + df_test['babies']\n",
    "    # Create 'is_alone' feature for both sets\n",
    "    # 1 if total_guests is 1, otherwise 0\n",
    "    df_train['is_alone'] = df_train['total_guests'].apply(lambda x: 1 if x == 1 else 0)\n",
    "    df_test['is_alone'] = df_test['total_guests'].apply(lambda x: 1 if x == 1 else 0)\n",
    "    # Optionally, you can drop the intermediate 'total_guests' feature\n",
    "    df_train = df_train.drop('total_guests', axis=1)\n",
    "    df_test = df_test.drop('total_guests', axis=1)\n",
    "    \n",
    "    # is_resort\n",
    "    # City Hotel은 0, Resort Hotel은 1로 변환\n",
    "    df_train['is_resort'] = df_train['hotel'].map({'City Hotel': 0, 'Resort Hotel': 1})\n",
    "    df_test['is_resort'] = df_test['hotel'].map({'City Hotel': 0, 'Resort Hotel': 1})\n",
    "\n",
    "\n",
    "    return df_train, df_test\n",
    "\n",
    "\n"
   ]
  },
  {
   "cell_type": "code",
   "execution_count": 5,
   "id": "c4341644",
   "metadata": {},
   "outputs": [
    {
     "name": "stderr",
     "output_type": "stream",
     "text": [
      "C:\\Users\\Playdata\\AppData\\Local\\Temp\\ipykernel_22276\\2413274968.py:75: SettingWithCopyWarning: \n",
      "A value is trying to be set on a copy of a slice from a DataFrame.\n",
      "Try using .loc[row_indexer,col_indexer] = value instead\n",
      "\n",
      "See the caveats in the documentation: https://pandas.pydata.org/pandas-docs/stable/user_guide/indexing.html#returning-a-view-versus-a-copy\n",
      "  df_train['lead_time_processed'] = np.where(\n",
      "C:\\Users\\Playdata\\AppData\\Local\\Temp\\ipykernel_22276\\2413274968.py:88: SettingWithCopyWarning: \n",
      "A value is trying to be set on a copy of a slice from a DataFrame.\n",
      "Try using .loc[row_indexer,col_indexer] = value instead\n",
      "\n",
      "See the caveats in the documentation: https://pandas.pydata.org/pandas-docs/stable/user_guide/indexing.html#returning-a-view-versus-a-copy\n",
      "  df_train['total_guests'] = df_train['adults'] + df_train['children'] + df_train['babies']\n",
      "C:\\Users\\Playdata\\AppData\\Local\\Temp\\ipykernel_22276\\2413274968.py:92: SettingWithCopyWarning: \n",
      "A value is trying to be set on a copy of a slice from a DataFrame.\n",
      "Try using .loc[row_indexer,col_indexer] = value instead\n",
      "\n",
      "See the caveats in the documentation: https://pandas.pydata.org/pandas-docs/stable/user_guide/indexing.html#returning-a-view-versus-a-copy\n",
      "  df_train['is_alone'] = df_train['total_guests'].apply(lambda x: 1 if x == 1 else 0)\n"
     ]
    }
   ],
   "source": [
    "df_train, df_test = do_feature_extraction(df_train, df_test)"
   ]
  },
  {
   "cell_type": "code",
   "execution_count": 7,
   "id": "2ff84802",
   "metadata": {},
   "outputs": [
    {
     "data": {
      "text/plain": [
       "((31329, 41), (8669, 42))"
      ]
     },
     "execution_count": 7,
     "metadata": {},
     "output_type": "execute_result"
    }
   ],
   "source": [
    "df_train.shape,  df_test.shape"
   ]
  },
  {
   "cell_type": "code",
   "execution_count": 11,
   "id": "024bf551",
   "metadata": {},
   "outputs": [
    {
     "data": {
      "text/plain": [
       "0    1\n",
       "1    1\n",
       "2    1\n",
       "3    1\n",
       "4    1\n",
       "Name: is_resort, dtype: int64"
      ]
     },
     "execution_count": 11,
     "metadata": {},
     "output_type": "execute_result"
    }
   ],
   "source": [
    "df_test['is_resort'].head()"
   ]
  },
  {
   "cell_type": "code",
   "execution_count": 12,
   "id": "8c008f89",
   "metadata": {},
   "outputs": [
    {
     "name": "stdout",
     "output_type": "stream",
     "text": [
      "<class 'pandas.core.frame.DataFrame'>\n",
      "Index: 31329 entries, 0 to 31330\n",
      "Data columns (total 41 columns):\n",
      " #   Column                          Non-Null Count  Dtype  \n",
      "---  ------                          --------------  -----  \n",
      " 0   hotel                           31329 non-null  object \n",
      " 1   lead_time                       31329 non-null  int64  \n",
      " 2   arrival_date_year               31329 non-null  int64  \n",
      " 3   arrival_date_month              31329 non-null  object \n",
      " 4   arrival_date_week_number        31329 non-null  int64  \n",
      " 5   arrival_date_day_of_month       31329 non-null  int64  \n",
      " 6   stays_in_weekend_nights         31329 non-null  int64  \n",
      " 7   stays_in_week_nights            31329 non-null  int64  \n",
      " 8   adults                          31329 non-null  int64  \n",
      " 9   children                        31329 non-null  int64  \n",
      " 10  babies                          31329 non-null  int64  \n",
      " 11  meal                            31329 non-null  object \n",
      " 12  country                         30881 non-null  object \n",
      " 13  market_segment                  31329 non-null  object \n",
      " 14  distribution_channel            31329 non-null  object \n",
      " 15  is_repeated_guest               31329 non-null  int64  \n",
      " 16  previous_cancellations          31329 non-null  int64  \n",
      " 17  previous_bookings_not_canceled  31329 non-null  int64  \n",
      " 18  reserved_room_type              31329 non-null  object \n",
      " 19  assigned_room_type              31329 non-null  object \n",
      " 20  booking_changes                 31329 non-null  int64  \n",
      " 21  deposit_type                    31329 non-null  object \n",
      " 22  agent                           24288 non-null  float64\n",
      " 23  company                         2670 non-null   float64\n",
      " 24  days_in_waiting_list            31329 non-null  int64  \n",
      " 25  customer_type                   31329 non-null  object \n",
      " 26  adr                             31329 non-null  int64  \n",
      " 27  required_car_parking_spaces     31329 non-null  int64  \n",
      " 28  total_of_special_requests       31329 non-null  int64  \n",
      " 29  reservation_status              31329 non-null  object \n",
      " 30  reservation_status_date         31329 non-null  object \n",
      " 31  arrival_date_full               31329 non-null  object \n",
      " 32  has_company                     31329 non-null  int64  \n",
      " 33  has_agent                       31329 non-null  int64  \n",
      " 34  is_FB_meal                      31329 non-null  int64  \n",
      " 35  market_risk_level               31329 non-null  object \n",
      " 36  is_High_risk_market_risk        31329 non-null  int64  \n",
      " 37  adr_processed                   31329 non-null  float64\n",
      " 38  lead_time_processed             31329 non-null  float64\n",
      " 39  is_alone                        31329 non-null  int64  \n",
      " 40  is_resort                       31329 non-null  int64  \n",
      "dtypes: float64(4), int64(23), object(14)\n",
      "memory usage: 10.0+ MB\n"
     ]
    }
   ],
   "source": [
    "df_train.info()"
   ]
  },
  {
   "cell_type": "code",
   "execution_count": 17,
   "id": "fb253a32",
   "metadata": {},
   "outputs": [
    {
     "data": {
      "text/plain": [
       "hotel                              object\n",
       "lead_time                           int64\n",
       "arrival_date_year                   int64\n",
       "arrival_date_month                 object\n",
       "arrival_date_week_number            int64\n",
       "arrival_date_day_of_month           int64\n",
       "stays_in_weekend_nights             int64\n",
       "stays_in_week_nights                int64\n",
       "adults                              int64\n",
       "children                            int64\n",
       "babies                              int64\n",
       "meal                               object\n",
       "country                            object\n",
       "market_segment                     object\n",
       "distribution_channel               object\n",
       "is_repeated_guest                   int64\n",
       "previous_cancellations              int64\n",
       "previous_bookings_not_canceled      int64\n",
       "reserved_room_type                 object\n",
       "assigned_room_type                 object\n",
       "booking_changes                     int64\n",
       "deposit_type                       object\n",
       "agent                             float64\n",
       "company                           float64\n",
       "days_in_waiting_list                int64\n",
       "customer_type                      object\n",
       "adr                                 int64\n",
       "required_car_parking_spaces         int64\n",
       "total_of_special_requests           int64\n",
       "reservation_status                 object\n",
       "reservation_status_date            object\n",
       "arrival_date_full                  object\n",
       "has_company                         int64\n",
       "has_agent                           int64\n",
       "is_FB_meal                          int64\n",
       "market_risk_level                  object\n",
       "is_High_risk_market_risk            int64\n",
       "adr_processed                     float64\n",
       "lead_time_processed               float64\n",
       "is_alone                            int64\n",
       "is_resort                           int64\n",
       "dtype: object"
      ]
     },
     "execution_count": 17,
     "metadata": {},
     "output_type": "execute_result"
    }
   ],
   "source": [
    "# df_train 데이터에 존재하는 모든 타입 조회\n",
    "df_train.dtypes"
   ]
  },
  {
   "cell_type": "code",
   "execution_count": 15,
   "id": "6ff773a2",
   "metadata": {},
   "outputs": [
    {
     "name": "stdout",
     "output_type": "stream",
     "text": [
      "<class 'pandas.core.frame.DataFrame'>\n",
      "Index: 31329 entries, 0 to 31330\n",
      "Data columns (total 14 columns):\n",
      " #   Column                   Non-Null Count  Dtype \n",
      "---  ------                   --------------  ----- \n",
      " 0   hotel                    31329 non-null  object\n",
      " 1   arrival_date_month       31329 non-null  object\n",
      " 2   meal                     31329 non-null  object\n",
      " 3   country                  30881 non-null  object\n",
      " 4   market_segment           31329 non-null  object\n",
      " 5   distribution_channel     31329 non-null  object\n",
      " 6   reserved_room_type       31329 non-null  object\n",
      " 7   assigned_room_type       31329 non-null  object\n",
      " 8   deposit_type             31329 non-null  object\n",
      " 9   customer_type            31329 non-null  object\n",
      " 10  reservation_status       31329 non-null  object\n",
      " 11  reservation_status_date  31329 non-null  object\n",
      " 12  arrival_date_full        31329 non-null  object\n",
      " 13  market_risk_level        31329 non-null  object\n",
      "dtypes: object(14)\n",
      "memory usage: 3.6+ MB\n"
     ]
    },
    {
     "data": {
      "text/plain": [
       "Index(['hotel', 'arrival_date_month', 'meal', 'country', 'market_segment',\n",
       "       'distribution_channel', 'reserved_room_type', 'assigned_room_type',\n",
       "       'deposit_type', 'customer_type', 'reservation_status',\n",
       "       'reservation_status_date', 'arrival_date_full', 'market_risk_level'],\n",
       "      dtype='object')"
      ]
     },
     "execution_count": 15,
     "metadata": {},
     "output_type": "execute_result"
    }
   ],
   "source": [
    "# 숫자 타입이 아닌 컬럼들 조회\n",
    "df_train.select_dtypes(exclude=['int64', 'float64']).info(),\n",
    "df_train.select_dtypes(exclude=['int64', 'float64']).columns"
   ]
  },
  {
   "cell_type": "code",
   "execution_count": 9,
   "id": "96da6f7d",
   "metadata": {},
   "outputs": [
    {
     "name": "stdout",
     "output_type": "stream",
     "text": [
      "<class 'pandas.core.frame.DataFrame'>\n",
      "RangeIndex: 31331 entries, 0 to 31330\n",
      "Data columns (total 19 columns):\n",
      " #   Column                          Non-Null Count  Dtype  \n",
      "---  ------                          --------------  -----  \n",
      " 0   lead_time                       31331 non-null  int64  \n",
      " 1   arrival_date_year               31331 non-null  int64  \n",
      " 2   arrival_date_week_number        31331 non-null  int64  \n",
      " 3   arrival_date_day_of_month       31331 non-null  int64  \n",
      " 4   stays_in_weekend_nights         31331 non-null  int64  \n",
      " 5   stays_in_week_nights            31331 non-null  int64  \n",
      " 6   adults                          31331 non-null  int64  \n",
      " 7   children                        31331 non-null  int64  \n",
      " 8   babies                          31331 non-null  int64  \n",
      " 9   is_repeated_guest               31331 non-null  int64  \n",
      " 10  previous_cancellations          31331 non-null  int64  \n",
      " 11  previous_bookings_not_canceled  31331 non-null  int64  \n",
      " 12  booking_changes                 31331 non-null  int64  \n",
      " 13  agent                           24288 non-null  float64\n",
      " 14  company                         2670 non-null   float64\n",
      " 15  days_in_waiting_list            31331 non-null  int64  \n",
      " 16  adr                             31331 non-null  int64  \n",
      " 17  required_car_parking_spaces     31331 non-null  int64  \n",
      " 18  total_of_special_requests       31331 non-null  int64  \n",
      "dtypes: float64(2), int64(17)\n",
      "memory usage: 4.5 MB\n"
     ]
    },
    {
     "data": {
      "text/plain": [
       "Index(['lead_time', 'arrival_date_year', 'arrival_date_week_number',\n",
       "       'arrival_date_day_of_month', 'stays_in_weekend_nights',\n",
       "       'stays_in_week_nights', 'adults', 'children', 'babies',\n",
       "       'is_repeated_guest', 'previous_cancellations',\n",
       "       'previous_bookings_not_canceled', 'booking_changes', 'agent', 'company',\n",
       "       'days_in_waiting_list', 'adr', 'required_car_parking_spaces',\n",
       "       'total_of_special_requests'],\n",
       "      dtype='object')"
      ]
     },
     "execution_count": 9,
     "metadata": {},
     "output_type": "execute_result"
    }
   ],
   "source": [
    "# 숫자타입인 컬럼들 조회\n",
    "df_train.select_dtypes(exclude=['object']).info(),\n",
    "df_train.select_dtypes(exclude=['object']).columns"
   ]
  },
  {
   "cell_type": "code",
   "execution_count": null,
   "id": "ebfac1ad",
   "metadata": {},
   "outputs": [
    {
     "data": {
      "text/plain": [
       "0    1\n",
       "1    1\n",
       "2    1\n",
       "3    1\n",
       "4    1\n",
       "Name: is_transient, dtype: int64"
      ]
     },
     "execution_count": 10,
     "metadata": {},
     "output_type": "execute_result"
    }
   ],
   "source": [
    "df_train['is_transient'] = (df_train['customer_type'] == 'Transient').astype(int)\n",
    "df_test['is_transient'] = (df_test['customer_type'] == 'Transient').astype(int)\n",
    "\n"
   ]
  },
  {
   "cell_type": "code",
   "execution_count": null,
   "id": "ebb986c3",
   "metadata": {},
   "outputs": [],
   "source": []
  }
 ],
 "metadata": {
  "kernelspec": {
   "display_name": ".venv",
   "language": "python",
   "name": "python3"
  },
  "language_info": {
   "codemirror_mode": {
    "name": "ipython",
    "version": 3
   },
   "file_extension": ".py",
   "mimetype": "text/x-python",
   "name": "python",
   "nbconvert_exporter": "python",
   "pygments_lexer": "ipython3",
   "version": "3.13.5"
  }
 },
 "nbformat": 4,
 "nbformat_minor": 5
}
